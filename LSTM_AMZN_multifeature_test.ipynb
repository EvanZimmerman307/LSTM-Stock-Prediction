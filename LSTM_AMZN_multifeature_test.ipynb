{
 "cells": [
  {
   "cell_type": "markdown",
   "metadata": {},
   "source": [
    "# Daily Forecasting"
   ]
  },
  {
   "cell_type": "markdown",
   "metadata": {},
   "source": [
    "# Imports"
   ]
  },
  {
   "cell_type": "code",
   "execution_count": 486,
   "metadata": {},
   "outputs": [],
   "source": [
    "import numpy as np\n",
    "import pandas as pd\n",
    "\n",
    "import os\n",
    "import matplotlib.pyplot as plt\n",
    "import pandas_datareader as web\n",
    "import datetime as dt\n",
    "\n",
    "from sklearn.preprocessing import MinMaxScaler\n",
    "from tensorflow.keras.models import Sequential\n",
    "from tensorflow.keras.layers import Dense, Dropout, LSTM\n",
    "from tensorflow.keras.callbacks import ModelCheckpoint, EarlyStopping"
   ]
  },
  {
   "cell_type": "markdown",
   "metadata": {},
   "source": [
    "# Loading & Pre-processing Data"
   ]
  },
  {
   "cell_type": "code",
   "execution_count": 487,
   "metadata": {},
   "outputs": [],
   "source": [
    "import io\n",
    "amazon_df = pd.read_csv('AMZN_Daily_10year.csv')\n",
    "meta_df = pd.read_csv('META.csv')\n",
    "msft_df = pd.read_csv('MSFT.csv')\n",
    "google_df = pd.read_csv('GOOGL.csv')\n",
    "apple_df= pd.read_csv('AAPL.csv')\n",
    "data = {\"amazon\": amazon_df, \"meta\": meta_df, \"msft\": msft_df, \"google\": google_df, \"aaple\": apple_df}"
   ]
  },
  {
   "cell_type": "code",
   "execution_count": 488,
   "metadata": {},
   "outputs": [],
   "source": [
    "def load_data(df, start, end):\n",
    "    \"\"\"\n",
    "    Load data for the date range.\n",
    "\n",
    "    :param start: The starting date for the data range (str or datetime)\n",
    "    :param end: The ending date for the data range (str or datetime)\n",
    "    :return: A dataframe containing the relevant stock data (pandas.DataFrame)\n",
    "    \"\"\"\n",
    "    dataframe = df.copy()\n",
    "    dataframe = dataframe.loc[(dataframe['Date'] > start) & (dataframe['Date'] < end), :]\n",
    "    return dataframe"
   ]
  },
  {
   "cell_type": "code",
   "execution_count": 489,
   "metadata": {},
   "outputs": [],
   "source": [
    "START_DATE = dt.datetime(2013,11,1)\n",
    "END_DATE = dt.datetime(2021,11,1)\n",
    "\n",
    "START_DATE_TEST = END_DATE"
   ]
  },
  {
   "cell_type": "code",
   "execution_count": 490,
   "metadata": {},
   "outputs": [],
   "source": [
    "# Convert 'Date' to datetime format\n",
    "for d in data:\n",
    "    data[d]['Date'] = pd.to_datetime(data[d]['Date'])"
   ]
  },
  {
   "cell_type": "code",
   "execution_count": 491,
   "metadata": {},
   "outputs": [],
   "source": [
    "# Load the training data for each company and scale the data.\n",
    "# combined the scaled data into one array with dim [2012, 5]\n",
    "# Also prepare the test inputs\n",
    "\n",
    "# Set the number of days used for prediction\n",
    "prediction_days = 120\n",
    "\n",
    "combined_scaled_data = []\n",
    "combined_model_inputs = []\n",
    "\n",
    "for d in data:\n",
    "    #prepare the training\n",
    "    train_data = load_data(data[d],\n",
    "                 start = START_DATE,\n",
    "                 end = END_DATE)\n",
    "    \n",
    "    if d == \"amazon\": # save the amazon scaler to reverse transform predictions\n",
    "        amazon_scaler = MinMaxScaler()\n",
    "        scaled_data = amazon_scaler.fit_transform(train_data['Close'].values.reshape(-1,1))\n",
    "    else:\n",
    "        scaler = MinMaxScaler() # Why do we need to do this? # should it be -1, 1\n",
    "        scaled_data = scaler.fit_transform(train_data['Close'].values.reshape(-1,1))\n",
    "    \n",
    "    if len(combined_scaled_data) == 0:\n",
    "        combined_scaled_data = scaled_data\n",
    "    else:\n",
    "        combined_scaled_data = np.concatenate((combined_scaled_data, scaled_data), axis=1)\n",
    "\n",
    "    # prepare the test data\n",
    "    test_data = load_data(data[d],\n",
    "    start=START_DATE_TEST,\n",
    "    end=dt.datetime.now()\n",
    "    )\n",
    "    \n",
    "    #We are trying to predict Amazon Prices\n",
    "    if d == \"amazon\":\n",
    "        actual_prices = test_data['Close'].values\n",
    "    \n",
    "    # Concatenate the training and test data along the 'Close' column\n",
    "    total_dataset = pd.concat((train_data['Close'], test_data['Close']), axis=0)\n",
    "\n",
    "    # Extract the relevant portion of the dataset for model inputs\n",
    "    model_inputs = total_dataset[len(total_dataset) - len(test_data) - prediction_days:].values\n",
    "\n",
    "    # Reshape the model inputs to a 2D array with a single column\n",
    "    model_inputs = model_inputs.reshape(-1, 1)\n",
    "\n",
    "    # Apply the same scaling used for training data to the model inputs\n",
    "    if d == \"amazon\":\n",
    "        model_inputs = amazon_scaler.transform(model_inputs)\n",
    "    else:\n",
    "        model_inputs = scaler.transform(model_inputs)\n",
    "\n",
    "    if len(combined_model_inputs) == 0:\n",
    "        combined_model_inputs = model_inputs\n",
    "    else:\n",
    "        combined_model_inputs = np.concatenate((combined_model_inputs, model_inputs), axis=1)\n",
    "\n"
   ]
  },
  {
   "cell_type": "code",
   "execution_count": 492,
   "metadata": {},
   "outputs": [],
   "source": [
    "# Initialize empty lists for training data input and output\n",
    "x_train = []\n",
    "y_train = []\n",
    "\n",
    "# Iterate through the scaled data, starting from the prediction_days index\n",
    "for x in range(prediction_days, len(combined_scaled_data)):\n",
    "    # Append the previous 'prediction_days' values to x_train\n",
    "    x_train.append(combined_scaled_data[x - prediction_days:x, 0:5])\n",
    "    # Append the current value to y_train\n",
    "    y_train.append(combined_scaled_data[x, 0])\n",
    "\n",
    "# Convert the x_train and y_train lists to numpy arrays\n",
    "x_train, y_train = np.array(x_train), np.array(y_train)\n",
    "\n",
    "# Reshape x_train to a 3D array with the appropriate dimensions for the LSTM model\n",
    "x_train = np.reshape(x_train, (x_train.shape[0], x_train.shape[1], 5))\n",
    "# Think of this as a list of 2D arrays it should have dimensions (1977,35,5)\n"
   ]
  },
  {
   "cell_type": "markdown",
   "metadata": {},
   "source": [
    "# LSTM Model"
   ]
  },
  {
   "cell_type": "code",
   "execution_count": 493,
   "metadata": {},
   "outputs": [],
   "source": [
    "def LSTM_model():\n",
    "    # Initialize a sequential model\n",
    "    model = Sequential()\n",
    "\n",
    "    # Add the first LSTM layer with 70 units, input shape, and return sequences\n",
    "    model.add(LSTM(units=64, recurrent_dropout=0.2, return_sequences=True, input_shape=(x_train.shape[1], 5)))\n",
    "    # Add dropout to prevent overfitting\n",
    "    #model.add(Dropout(0.2))\n",
    "\n",
    "     # Add a second LSTM layer with 70 units and return sequences\n",
    "    model.add(LSTM(units=64, recurrent_dropout=0.2, return_sequences=True))\n",
    "    # Add dropout to prevent overfitting\n",
    "    #model.add(Dropout(0.2))\n",
    "\n",
    "    # Add a third LSTM layer with 70 units\n",
    "    model.add(LSTM(units=64, recurrent_dropout=0.2))\n",
    "    # Add dropout to prevent overfitting\n",
    "    #model.add(Dropout(0.2))\n",
    "    \n",
    "    # Add a dense output layer with one unit\n",
    "    model.add(Dense(units=1))\n",
    "\n",
    "    return model"
   ]
  },
  {
   "cell_type": "code",
   "execution_count": 494,
   "metadata": {},
   "outputs": [
    {
     "name": "stdout",
     "output_type": "stream",
     "text": [
      "Model: \"sequential_25\"\n",
      "_________________________________________________________________\n",
      " Layer (type)                Output Shape              Param #   \n",
      "=================================================================\n",
      " lstm_75 (LSTM)              (None, 120, 64)           17920     \n",
      "                                                                 \n",
      " lstm_76 (LSTM)              (None, 120, 64)           33024     \n",
      "                                                                 \n",
      " lstm_77 (LSTM)              (None, 64)                33024     \n",
      "                                                                 \n",
      " dense_25 (Dense)            (None, 1)                 65        \n",
      "                                                                 \n",
      "=================================================================\n",
      "Total params: 84033 (328.25 KB)\n",
      "Trainable params: 84033 (328.25 KB)\n",
      "Non-trainable params: 0 (0.00 Byte)\n",
      "_________________________________________________________________\n"
     ]
    }
   ],
   "source": [
    "model = LSTM_model()\n",
    "model.summary()\n",
    "model.compile(\n",
    "    optimizer='adam',\n",
    "    loss='mean_squared_error'\n",
    ")"
   ]
  },
  {
   "cell_type": "code",
   "execution_count": 495,
   "metadata": {},
   "outputs": [
    {
     "name": "stdout",
     "output_type": "stream",
     "text": [
      "Epoch 1/25\n",
      "60/60 [==============================] - 12s 143ms/step - loss: 0.0104\n",
      "Epoch 2/25\n",
      "60/60 [==============================] - 9s 145ms/step - loss: 0.0010\n",
      "Epoch 3/25\n",
      "60/60 [==============================] - 9s 149ms/step - loss: 7.9777e-04\n",
      "Epoch 4/25\n",
      "60/60 [==============================] - 9s 155ms/step - loss: 7.4107e-04\n",
      "Epoch 5/25\n",
      "60/60 [==============================] - 9s 152ms/step - loss: 6.9862e-04\n",
      "Epoch 6/25\n",
      "60/60 [==============================] - 10s 159ms/step - loss: 6.9126e-04\n",
      "Epoch 7/25\n",
      "60/60 [==============================] - 9s 156ms/step - loss: 6.0183e-04\n",
      "Epoch 8/25\n",
      "60/60 [==============================] - 9s 157ms/step - loss: 6.7073e-04\n",
      "Epoch 9/25\n",
      "60/60 [==============================] - 9s 157ms/step - loss: 6.3680e-04\n",
      "Epoch 10/25\n",
      "60/60 [==============================] - 9s 156ms/step - loss: 5.7401e-04\n",
      "Epoch 11/25\n",
      "60/60 [==============================] - 9s 150ms/step - loss: 5.2808e-04\n",
      "Epoch 12/25\n",
      "60/60 [==============================] - 9s 147ms/step - loss: 6.5599e-04\n",
      "Epoch 13/25\n",
      "60/60 [==============================] - 9s 152ms/step - loss: 5.8610e-04\n",
      "Epoch 14/25\n",
      "60/60 [==============================] - 9s 153ms/step - loss: 4.6295e-04\n",
      "Epoch 15/25\n",
      "60/60 [==============================] - 9s 157ms/step - loss: 5.9314e-04\n",
      "Epoch 16/25\n",
      "60/60 [==============================] - 9s 154ms/step - loss: 4.6925e-04\n",
      "Epoch 17/25\n",
      "60/60 [==============================] - 9s 155ms/step - loss: 5.3930e-04\n",
      "Epoch 18/25\n",
      "60/60 [==============================] - 9s 152ms/step - loss: 6.6291e-04\n",
      "Epoch 19/25\n",
      "60/60 [==============================] - 9s 151ms/step - loss: 4.0760e-04\n",
      "Epoch 20/25\n",
      "60/60 [==============================] - 9s 156ms/step - loss: 4.1444e-04\n",
      "Epoch 21/25\n",
      "60/60 [==============================] - 9s 152ms/step - loss: 4.3704e-04\n",
      "Epoch 22/25\n",
      "60/60 [==============================] - 9s 150ms/step - loss: 4.9058e-04\n",
      "Epoch 23/25\n",
      "60/60 [==============================] - 9s 147ms/step - loss: 4.9497e-04\n",
      "Epoch 24/25\n",
      "60/60 [==============================] - 9s 150ms/step - loss: 4.4670e-04\n",
      "Epoch 25/25\n",
      "60/60 [==============================] - 9s 152ms/step - loss: 5.1381e-04\n"
     ]
    },
    {
     "data": {
      "text/plain": [
       "<keras.src.callbacks.History at 0x36141d590>"
      ]
     },
     "execution_count": 495,
     "metadata": {},
     "output_type": "execute_result"
    }
   ],
   "source": [
    "model.fit(\n",
    "    x_train,\n",
    "    y_train,\n",
    "    epochs=25,\n",
    "    batch_size = 32,\n",
    ")"
   ]
  },
  {
   "cell_type": "markdown",
   "metadata": {},
   "source": [
    "# Inference"
   ]
  },
  {
   "cell_type": "code",
   "execution_count": 496,
   "metadata": {},
   "outputs": [
    {
     "name": "stdout",
     "output_type": "stream",
     "text": [
      "16/16 [==============================] - 1s 22ms/step\n"
     ]
    }
   ],
   "source": [
    "# Initialize an empty list for test data input\n",
    "x_test = []\n",
    "\n",
    "# Iterate through the model inputs, starting from the prediction_days index\n",
    "for x in range(prediction_days, len(combined_model_inputs)):\n",
    "    # Append the previous 'prediction_days' values to x_test\n",
    "    x_test.append(combined_model_inputs[x-prediction_days:x, 0:5])\n",
    "\n",
    "# Convert the x_test list to a numpy array\n",
    "x_test = np.array(x_test)\n",
    "\n",
    "# Reshape x_test to a 3D array with the appropriate dimensions for the LSTM model\n",
    "x_test = np.reshape(x_test, (x_test.shape[0], x_test.shape[1], 5))\n",
    "\n",
    "# Generate price predictions using the LSTM model\n",
    "predicted_prices = model.predict(x_test)\n",
    "\n",
    "# Invert the scaling applied to the predicted prices to obtain actual values\n",
    "predicted_prices = amazon_scaler.inverse_transform(predicted_prices)"
   ]
  },
  {
   "cell_type": "code",
   "execution_count": 497,
   "metadata": {},
   "outputs": [
    {
     "data": {
      "text/plain": [
       "(503, 1)"
      ]
     },
     "execution_count": 497,
     "metadata": {},
     "output_type": "execute_result"
    }
   ],
   "source": [
    "predicted_prices.shape"
   ]
  },
  {
   "cell_type": "code",
   "execution_count": 498,
   "metadata": {},
   "outputs": [
    {
     "data": {
      "image/png": "[encoded data removed]",
      "text/plain": [
       "<Figure size 640x480 with 1 Axes>"
      ]
     },
     "metadata": {},
     "output_type": "display_data"
    }
   ],
   "source": [
    "# Plot the actual prices using a black line\n",
    "plt.plot(actual_prices, color='black', label=f\"Actual Daily AMZN price\")\n",
    "\n",
    "# Plot the predicted prices using a green line\n",
    "plt.plot(predicted_prices, color='green', label=f\"Predicted Daily AMZN price\")\n",
    "\n",
    "# Set the title of the plot using the company name\n",
    "plt.title(f\"AMZN share price\")\n",
    "\n",
    "# Set the x-axis label as 'time'\n",
    "plt.xlabel(\"time\")\n",
    "\n",
    "# Set the y-axis label using the company name\n",
    "plt.ylabel(f\"AMZN share price\")\n",
    "\n",
    "# Display a legend to differentiate the actual and predicted prices\n",
    "plt.legend()\n",
    "\n",
    "# Show the plot on the screen\n",
    "plt.show()"
   ]
  },
  {
   "cell_type": "code",
   "execution_count": 499,
   "metadata": {},
   "outputs": [
    {
     "data": {
      "image/png": "[encoded data removed]",
      "text/plain": [
       "<Figure size 640x480 with 1 Axes>"
      ]
     },
     "metadata": {},
     "output_type": "display_data"
    }
   ],
   "source": [
    "plt.plot(predicted_prices.flatten() - actual_prices, color='black', label=f\"Actual Daily AMZN price\")\n",
    "plt.show()"
   ]
  },
  {
   "cell_type": "code",
   "execution_count": 500,
   "metadata": {},
   "outputs": [
    {
     "name": "stdout",
     "output_type": "stream",
     "text": [
      "[ 6.04183955  2.43647761 -2.28617849 -4.24720723 -2.35581958 -6.24592598\n",
      " -0.85032625  0.15148926 -2.12831083 -2.79141277]\n"
     ]
    }
   ],
   "source": [
    "differences = predicted_prices.flatten() - actual_prices\n",
    "print(differences[:10])"
   ]
  },
  {
   "cell_type": "code",
   "execution_count": 501,
   "metadata": {},
   "outputs": [
    {
     "name": "stdout",
     "output_type": "stream",
     "text": [
      "1/1 [==============================] - 0s 403ms/step\n",
      "Prediction: 141.99891662597656\n"
     ]
    }
   ],
   "source": [
    "# Extract the last 'prediction_days' values from the model inputs to make a prediction for the future\n",
    "real_data = [combined_model_inputs[len(combined_model_inputs) + 1 - prediction_days:len(combined_model_inputs + 1), 0:5]]\n",
    "\n",
    "# Convert the real_data list to a numpy array\n",
    "real_data = np.array(real_data)\n",
    "\n",
    "# Reshape real_data to a 3D array with the appropriate dimensions for the LSTM model\n",
    "real_data = np.reshape(real_data, (real_data.shape[0], real_data.shape[1], 5))\n",
    "\n",
    "# Generate a prediction using the LSTM model with the real_data input\n",
    "prediction = model.predict(real_data) #prediction for 10/30\n",
    "\n",
    "# Invert the scaling applied to the prediction to obtain the actual value\n",
    "prediction = amazon_scaler.inverse_transform(prediction)\n",
    "\n",
    "# Print the prediction result to the console\n",
    "print(f\"Prediction: {prediction[0][0]}\")"
   ]
  },
  {
   "cell_type": "markdown",
   "metadata": {},
   "source": [
    "# Evaluation"
   ]
  },
  {
   "cell_type": "code",
   "execution_count": 502,
   "metadata": {},
   "outputs": [],
   "source": [
    "predicted_prices1D = predicted_prices.flatten()\n",
    "\n",
    "#using the same x_test that was input for the LSTM\n",
    "#using prediction_days = 150\n",
    "\n",
    "# Initialize an empty list to store moving averages\n",
    "moving_averages = np.empty((len(predicted_prices1D), ), dtype=np.float64)\n",
    "\n",
    "# Loop through x_test to consider\n",
    "# every window of size prediction_days\n",
    "for i in range(len(x_test)):\n",
    "\n",
    "    # get the current window\n",
    "    window = x_test[i].flatten()\n",
    "\n",
    "    # Calculate the average of current window\n",
    "    window_average = np.mean(window)\n",
    "\n",
    "    # Store the average of current\n",
    "    # window in moving average list\n",
    "    moving_averages[i] = window_average\n",
    "\n",
    "rolling_average = scaler.inverse_transform(moving_averages.reshape(-1, 1))\n",
    "rolling_average = rolling_average.flatten()"
   ]
  },
  {
   "cell_type": "code",
   "execution_count": 503,
   "metadata": {},
   "outputs": [
    {
     "name": "stdout",
     "output_type": "stream",
     "text": [
      "Avergae percent error:  7.544554312153905\n",
      "Root Mean Square Error (RMSE): 10.558398600329703\n",
      "Out-of-sample R-squared: 0.5150930424982147\n"
     ]
    }
   ],
   "source": [
    "# Average percent error\n",
    "\n",
    "percent_error = (np.abs(actual_prices - predicted_prices1D) / actual_prices) * 100\n",
    "avg_percent_error = np.sum(percent_error) / len(percent_error)\n",
    "print(\"Avergae percent error: \", avg_percent_error)\n",
    "\n",
    "# RMSE\n",
    "# Step 1: Calculate the squared differences\n",
    "squared_diff = (predicted_prices1D - actual_prices) ** 2\n",
    "\n",
    "# Step 2: Compute the mean of squared differences\n",
    "mean_squared_diff = squared_diff.mean()\n",
    "\n",
    "# Step 3: Take the square root to get RMSE\n",
    "rmse = np.sqrt(mean_squared_diff)\n",
    "\n",
    "print(\"Root Mean Square Error (RMSE):\", rmse)\n",
    "\n",
    "\n",
    "# Out of Sample R square\n",
    "# Calculate the rolling mean of the actual target values\n",
    "#actual_mean = np.mean(actual_prices) # compare to rolling mean of window\n",
    "\n",
    "# Calculate SST, SSR, and SSE\n",
    "SST = np.sum((actual_prices - rolling_average) ** 2)\n",
    "SSE = np.sum((actual_prices - predicted_prices1D) ** 2)\n",
    "\n",
    "# Calculate out-of-sample R-squared\n",
    "out_of_sample_r_squared = 1 - (SSE / SST)\n",
    "\n",
    "print(\"Out-of-sample R-squared:\", out_of_sample_r_squared)"
   ]
  },
  {
   "cell_type": "code",
   "execution_count": 504,
   "metadata": {},
   "outputs": [
    {
     "data": {
      "text/plain": [
       "503"
      ]
     },
     "execution_count": 504,
     "metadata": {},
     "output_type": "execute_result"
    }
   ],
   "source": [
    "len(actual_prices)"
   ]
  },
  {
   "cell_type": "markdown",
   "metadata": {},
   "source": [
    "# Weekly Forecasting"
   ]
  },
  {
   "cell_type": "markdown",
   "metadata": {},
   "source": [
    "Loading & Pre-processing data"
   ]
  },
  {
   "cell_type": "code",
   "execution_count": null,
   "metadata": {},
   "outputs": [],
   "source": [
    "df = pd.read_csv('AMZN_Weekly.csv')\n",
    "\n",
    "START_DATE = dt.datetime(2013,10,28)\n",
    "END_DATE = dt.datetime(2020,10,29)\n",
    "\n",
    "START_DATE_TEST = END_DATE"
   ]
  },
  {
   "cell_type": "code",
   "execution_count": null,
   "metadata": {},
   "outputs": [
    {
     "data": {
      "text/html": [
       "<div>\n",
       "<style scoped>\n",
       "    .dataframe tbody tr th:only-of-type {\n",
       "        vertical-align: middle;\n",
       "    }\n",
       "\n",
       "    .dataframe tbody tr th {\n",
       "        vertical-align: top;\n",
       "    }\n",
       "\n",
       "    .dataframe thead th {\n",
       "        text-align: right;\n",
       "    }\n",
       "</style>\n",
       "<table border=\"1\" class=\"dataframe\">\n",
       "  <thead>\n",
       "    <tr style=\"text-align: right;\">\n",
       "      <th></th>\n",
       "      <th>Date</th>\n",
       "      <th>Open</th>\n",
       "      <th>High</th>\n",
       "      <th>Low</th>\n",
       "      <th>Close</th>\n",
       "      <th>Adj Close</th>\n",
       "      <th>Volume</th>\n",
       "    </tr>\n",
       "  </thead>\n",
       "  <tbody>\n",
       "    <tr>\n",
       "      <th>0</th>\n",
       "      <td>2013-10-28</td>\n",
       "      <td>17.948000</td>\n",
       "      <td>18.299999</td>\n",
       "      <td>17.805000</td>\n",
       "      <td>17.950001</td>\n",
       "      <td>17.950001</td>\n",
       "      <td>249708000</td>\n",
       "    </tr>\n",
       "    <tr>\n",
       "      <th>1</th>\n",
       "      <td>2013-11-04</td>\n",
       "      <td>18.006001</td>\n",
       "      <td>18.143499</td>\n",
       "      <td>17.094000</td>\n",
       "      <td>17.515499</td>\n",
       "      <td>17.515499</td>\n",
       "      <td>262620000</td>\n",
       "    </tr>\n",
       "    <tr>\n",
       "      <th>2</th>\n",
       "      <td>2013-11-11</td>\n",
       "      <td>17.529499</td>\n",
       "      <td>18.645000</td>\n",
       "      <td>17.284000</td>\n",
       "      <td>18.458500</td>\n",
       "      <td>18.458500</td>\n",
       "      <td>320590000</td>\n",
       "    </tr>\n",
       "    <tr>\n",
       "      <th>3</th>\n",
       "      <td>2013-11-18</td>\n",
       "      <td>18.514000</td>\n",
       "      <td>18.725000</td>\n",
       "      <td>18.022499</td>\n",
       "      <td>18.615499</td>\n",
       "      <td>18.615499</td>\n",
       "      <td>226876000</td>\n",
       "    </tr>\n",
       "    <tr>\n",
       "      <th>4</th>\n",
       "      <td>2013-11-25</td>\n",
       "      <td>18.691000</td>\n",
       "      <td>19.705000</td>\n",
       "      <td>18.659000</td>\n",
       "      <td>19.681000</td>\n",
       "      <td>19.681000</td>\n",
       "      <td>207448000</td>\n",
       "    </tr>\n",
       "    <tr>\n",
       "      <th>...</th>\n",
       "      <td>...</td>\n",
       "      <td>...</td>\n",
       "      <td>...</td>\n",
       "      <td>...</td>\n",
       "      <td>...</td>\n",
       "      <td>...</td>\n",
       "      <td>...</td>\n",
       "    </tr>\n",
       "    <tr>\n",
       "      <th>517</th>\n",
       "      <td>2023-09-25</td>\n",
       "      <td>129.360001</td>\n",
       "      <td>131.779999</td>\n",
       "      <td>123.040001</td>\n",
       "      <td>127.120003</td>\n",
       "      <td>127.120003</td>\n",
       "      <td>302552000</td>\n",
       "    </tr>\n",
       "    <tr>\n",
       "      <th>518</th>\n",
       "      <td>2023-10-02</td>\n",
       "      <td>127.279999</td>\n",
       "      <td>130.470001</td>\n",
       "      <td>124.129997</td>\n",
       "      <td>127.959999</td>\n",
       "      <td>127.959999</td>\n",
       "      <td>230255100</td>\n",
       "    </tr>\n",
       "    <tr>\n",
       "      <th>519</th>\n",
       "      <td>2023-10-09</td>\n",
       "      <td>126.220001</td>\n",
       "      <td>134.479996</td>\n",
       "      <td>124.760002</td>\n",
       "      <td>129.789993</td>\n",
       "      <td>129.789993</td>\n",
       "      <td>223009300</td>\n",
       "    </tr>\n",
       "    <tr>\n",
       "      <th>520</th>\n",
       "      <td>2023-10-16</td>\n",
       "      <td>130.690002</td>\n",
       "      <td>133.070007</td>\n",
       "      <td>124.970001</td>\n",
       "      <td>125.169998</td>\n",
       "      <td>125.169998</td>\n",
       "      <td>252181700</td>\n",
       "    </tr>\n",
       "    <tr>\n",
       "      <th>521</th>\n",
       "      <td>2023-10-23</td>\n",
       "      <td>124.629997</td>\n",
       "      <td>130.020004</td>\n",
       "      <td>118.349998</td>\n",
       "      <td>127.739998</td>\n",
       "      <td>127.739998</td>\n",
       "      <td>394938900</td>\n",
       "    </tr>\n",
       "  </tbody>\n",
       "</table>\n",
       "<p>522 rows × 7 columns</p>\n",
       "</div>"
      ],
      "text/plain": [
       "          Date        Open        High         Low       Close   Adj Close  \\\n",
       "0   2013-10-28   17.948000   18.299999   17.805000   17.950001   17.950001   \n",
       "1   2013-11-04   18.006001   18.143499   17.094000   17.515499   17.515499   \n",
       "2   2013-11-11   17.529499   18.645000   17.284000   18.458500   18.458500   \n",
       "3   2013-11-18   18.514000   18.725000   18.022499   18.615499   18.615499   \n",
       "4   2013-11-25   18.691000   19.705000   18.659000   19.681000   19.681000   \n",
       "..         ...         ...         ...         ...         ...         ...   \n",
       "517 2023-09-25  129.360001  131.779999  123.040001  127.120003  127.120003   \n",
       "518 2023-10-02  127.279999  130.470001  124.129997  127.959999  127.959999   \n",
       "519 2023-10-09  126.220001  134.479996  124.760002  129.789993  129.789993   \n",
       "520 2023-10-16  130.690002  133.070007  124.970001  125.169998  125.169998   \n",
       "521 2023-10-23  124.629997  130.020004  118.349998  127.739998  127.739998   \n",
       "\n",
       "        Volume  \n",
       "0    249708000  \n",
       "1    262620000  \n",
       "2    320590000  \n",
       "3    226876000  \n",
       "4    207448000  \n",
       "..         ...  \n",
       "517  302552000  \n",
       "518  230255100  \n",
       "519  223009300  \n",
       "520  252181700  \n",
       "521  394938900  \n",
       "\n",
       "[522 rows x 7 columns]"
      ]
     },
     "execution_count": 45,
     "metadata": {},
     "output_type": "execute_result"
    }
   ],
   "source": [
    "df['Date'] = pd.to_datetime(df['Date'])\n",
    "df"
   ]
  },
  {
   "cell_type": "code",
   "execution_count": null,
   "metadata": {},
   "outputs": [
    {
     "data": {
      "text/html": [
       "<div>\n",
       "<style scoped>\n",
       "    .dataframe tbody tr th:only-of-type {\n",
       "        vertical-align: middle;\n",
       "    }\n",
       "\n",
       "    .dataframe tbody tr th {\n",
       "        vertical-align: top;\n",
       "    }\n",
       "\n",
       "    .dataframe thead th {\n",
       "        text-align: right;\n",
       "    }\n",
       "</style>\n",
       "<table border=\"1\" class=\"dataframe\">\n",
       "  <thead>\n",
       "    <tr style=\"text-align: right;\">\n",
       "      <th></th>\n",
       "      <th>Date</th>\n",
       "      <th>Open</th>\n",
       "      <th>High</th>\n",
       "      <th>Low</th>\n",
       "      <th>Close</th>\n",
       "      <th>Adj Close</th>\n",
       "      <th>Volume</th>\n",
       "    </tr>\n",
       "  </thead>\n",
       "  <tbody>\n",
       "    <tr>\n",
       "      <th>1</th>\n",
       "      <td>2013-11-04</td>\n",
       "      <td>18.006001</td>\n",
       "      <td>18.143499</td>\n",
       "      <td>17.094000</td>\n",
       "      <td>17.515499</td>\n",
       "      <td>17.515499</td>\n",
       "      <td>262620000</td>\n",
       "    </tr>\n",
       "    <tr>\n",
       "      <th>2</th>\n",
       "      <td>2013-11-11</td>\n",
       "      <td>17.529499</td>\n",
       "      <td>18.645000</td>\n",
       "      <td>17.284000</td>\n",
       "      <td>18.458500</td>\n",
       "      <td>18.458500</td>\n",
       "      <td>320590000</td>\n",
       "    </tr>\n",
       "    <tr>\n",
       "      <th>3</th>\n",
       "      <td>2013-11-18</td>\n",
       "      <td>18.514000</td>\n",
       "      <td>18.725000</td>\n",
       "      <td>18.022499</td>\n",
       "      <td>18.615499</td>\n",
       "      <td>18.615499</td>\n",
       "      <td>226876000</td>\n",
       "    </tr>\n",
       "    <tr>\n",
       "      <th>4</th>\n",
       "      <td>2013-11-25</td>\n",
       "      <td>18.691000</td>\n",
       "      <td>19.705000</td>\n",
       "      <td>18.659000</td>\n",
       "      <td>19.681000</td>\n",
       "      <td>19.681000</td>\n",
       "      <td>207448000</td>\n",
       "    </tr>\n",
       "    <tr>\n",
       "      <th>5</th>\n",
       "      <td>2013-12-02</td>\n",
       "      <td>19.950001</td>\n",
       "      <td>19.950001</td>\n",
       "      <td>19.068501</td>\n",
       "      <td>19.347500</td>\n",
       "      <td>19.347500</td>\n",
       "      <td>293268000</td>\n",
       "    </tr>\n",
       "    <tr>\n",
       "      <th>...</th>\n",
       "      <td>...</td>\n",
       "      <td>...</td>\n",
       "      <td>...</td>\n",
       "      <td>...</td>\n",
       "      <td>...</td>\n",
       "      <td>...</td>\n",
       "      <td>...</td>\n",
       "    </tr>\n",
       "    <tr>\n",
       "      <th>361</th>\n",
       "      <td>2020-09-28</td>\n",
       "      <td>157.442505</td>\n",
       "      <td>161.199997</td>\n",
       "      <td>155.858505</td>\n",
       "      <td>156.250000</td>\n",
       "      <td>156.250000</td>\n",
       "      <td>464022000</td>\n",
       "    </tr>\n",
       "    <tr>\n",
       "      <th>362</th>\n",
       "      <td>2020-10-05</td>\n",
       "      <td>157.292007</td>\n",
       "      <td>164.449493</td>\n",
       "      <td>154.500000</td>\n",
       "      <td>164.332504</td>\n",
       "      <td>164.332504</td>\n",
       "      <td>425072000</td>\n",
       "    </tr>\n",
       "    <tr>\n",
       "      <th>363</th>\n",
       "      <td>2020-10-12</td>\n",
       "      <td>167.496994</td>\n",
       "      <td>174.811996</td>\n",
       "      <td>158.000000</td>\n",
       "      <td>163.635498</td>\n",
       "      <td>163.635498</td>\n",
       "      <td>632388000</td>\n",
       "    </tr>\n",
       "    <tr>\n",
       "      <th>364</th>\n",
       "      <td>2020-10-19</td>\n",
       "      <td>164.980499</td>\n",
       "      <td>166.449997</td>\n",
       "      <td>156.097000</td>\n",
       "      <td>160.220001</td>\n",
       "      <td>160.220001</td>\n",
       "      <td>440094000</td>\n",
       "    </tr>\n",
       "    <tr>\n",
       "      <th>365</th>\n",
       "      <td>2020-10-26</td>\n",
       "      <td>159.936996</td>\n",
       "      <td>164.582993</td>\n",
       "      <td>150.949997</td>\n",
       "      <td>151.807495</td>\n",
       "      <td>151.807495</td>\n",
       "      <td>615268000</td>\n",
       "    </tr>\n",
       "  </tbody>\n",
       "</table>\n",
       "<p>365 rows × 7 columns</p>\n",
       "</div>"
      ],
      "text/plain": [
       "          Date        Open        High         Low       Close   Adj Close  \\\n",
       "1   2013-11-04   18.006001   18.143499   17.094000   17.515499   17.515499   \n",
       "2   2013-11-11   17.529499   18.645000   17.284000   18.458500   18.458500   \n",
       "3   2013-11-18   18.514000   18.725000   18.022499   18.615499   18.615499   \n",
       "4   2013-11-25   18.691000   19.705000   18.659000   19.681000   19.681000   \n",
       "5   2013-12-02   19.950001   19.950001   19.068501   19.347500   19.347500   \n",
       "..         ...         ...         ...         ...         ...         ...   \n",
       "361 2020-09-28  157.442505  161.199997  155.858505  156.250000  156.250000   \n",
       "362 2020-10-05  157.292007  164.449493  154.500000  164.332504  164.332504   \n",
       "363 2020-10-12  167.496994  174.811996  158.000000  163.635498  163.635498   \n",
       "364 2020-10-19  164.980499  166.449997  156.097000  160.220001  160.220001   \n",
       "365 2020-10-26  159.936996  164.582993  150.949997  151.807495  151.807495   \n",
       "\n",
       "        Volume  \n",
       "1    262620000  \n",
       "2    320590000  \n",
       "3    226876000  \n",
       "4    207448000  \n",
       "5    293268000  \n",
       "..         ...  \n",
       "361  464022000  \n",
       "362  425072000  \n",
       "363  632388000  \n",
       "364  440094000  \n",
       "365  615268000  \n",
       "\n",
       "[365 rows x 7 columns]"
      ]
     },
     "execution_count": 46,
     "metadata": {},
     "output_type": "execute_result"
    }
   ],
   "source": [
    "#Load training data - 7 year window\n",
    "train_data = load_data(df,\n",
    "                 start = START_DATE,\n",
    "                 end = END_DATE)\n",
    "\n",
    "train_data"
   ]
  },
  {
   "cell_type": "code",
   "execution_count": null,
   "metadata": {},
   "outputs": [],
   "source": [
    "# Normalize Data\n",
    "scaler = MinMaxScaler(feature_range=(0,1)) # Why do we need to do this?\n",
    "scaled_data = scaler.fit_transform(train_data['Close'].values.reshape(-1,1))"
   ]
  },
  {
   "cell_type": "code",
   "execution_count": null,
   "metadata": {},
   "outputs": [],
   "source": [
    "# Set the number of weeks used for prediction\n",
    "prediction_weeks = 24\n",
    "\n",
    "# Initialize empty lists for training data input and output\n",
    "x_train = []\n",
    "y_train = []\n",
    "\n",
    "# Iterate through the scaled data\n",
    "for x in range(prediction_weeks, len(scaled_data)):\n",
    "    # Append the previous 'prediction_days' values to x_train\n",
    "    x_train.append(scaled_data[x - prediction_weeks:x, 0])\n",
    "    # Append the current value to y_train\n",
    "    y_train.append(scaled_data[x, 0])\n",
    "\n",
    "# Convert the x_train and y_train lists to numpy arrays\n",
    "x_train, y_train = np.array(x_train), np.array(y_train)\n",
    "\n",
    "# Reshape x_train to a 3D array with the appropriate dimensions for the LSTM model\n",
    "x_train = np.reshape(x_train, (x_train.shape[0], x_train.shape[1], 1))\n",
    "# Think of this as a list of 2D arrays "
   ]
  },
  {
   "cell_type": "code",
   "execution_count": null,
   "metadata": {},
   "outputs": [],
   "source": [
    "def LSTM_model():\n",
    "    # Initialize a sequential model\n",
    "    model = Sequential()\n",
    "\n",
    "    # Add the first LSTM layer with 150 units, input shape, and return sequences\n",
    "    model.add(LSTM(units=150, return_sequences=True, input_shape=(x_train.shape[1], 1)))\n",
    "    # Add dropout to prevent overfitting\n",
    "    model.add(Dropout(0.2))\n",
    "\n",
    "     # Add a second LSTM layer with 150 units and return sequences\n",
    "    model.add(LSTM(units=150, return_sequences=True))\n",
    "    # Add dropout to prevent overfitting\n",
    "    model.add(Dropout(0.2))\n",
    "\n",
    "    # Add a third LSTM layer with 150 units\n",
    "    model.add(LSTM(units=150))\n",
    "    # Add dropout to prevent overfitting\n",
    "    model.add(Dropout(0.2))\n",
    "    \n",
    "    # Add a dense output layer with one unit\n",
    "    model.add(Dense(units=1))\n",
    "\n",
    "    return model"
   ]
  },
  {
   "cell_type": "code",
   "execution_count": null,
   "metadata": {},
   "outputs": [
    {
     "name": "stdout",
     "output_type": "stream",
     "text": [
      "Model: \"sequential_10\"\n",
      "_________________________________________________________________\n",
      " Layer (type)                Output Shape              Param #   \n",
      "=================================================================\n",
      " lstm_33 (LSTM)              (None, 24, 150)           91200     \n",
      "                                                                 \n",
      " dropout_30 (Dropout)        (None, 24, 150)           0         \n",
      "                                                                 \n",
      " lstm_34 (LSTM)              (None, 24, 150)           180600    \n",
      "                                                                 \n",
      " dropout_31 (Dropout)        (None, 24, 150)           0         \n",
      "                                                                 \n",
      " lstm_35 (LSTM)              (None, 150)               180600    \n",
      "                                                                 \n",
      " dropout_32 (Dropout)        (None, 150)               0         \n",
      "                                                                 \n",
      " dense_7 (Dense)             (None, 1)                 151       \n",
      "                                                                 \n",
      "=================================================================\n",
      "Total params: 452551 (1.73 MB)\n",
      "Trainable params: 452551 (1.73 MB)\n",
      "Non-trainable params: 0 (0.00 Byte)\n",
      "_________________________________________________________________\n"
     ]
    }
   ],
   "source": [
    "model = LSTM_model()\n",
    "model.summary()\n",
    "model.compile(\n",
    "    optimizer='adam',\n",
    "    loss='mean_squared_error'\n",
    ")"
   ]
  },
  {
   "cell_type": "code",
   "execution_count": null,
   "metadata": {},
   "outputs": [
    {
     "name": "stdout",
     "output_type": "stream",
     "text": [
      "Epoch 1/25\n",
      "11/11 [==============================] - 3s 46ms/step - loss: 0.0367\n",
      "Epoch 2/25\n",
      "11/11 [==============================] - 1s 54ms/step - loss: 0.0074\n",
      "Epoch 3/25\n",
      "11/11 [==============================] - 1s 53ms/step - loss: 0.0045\n",
      "Epoch 4/25\n",
      "11/11 [==============================] - 1s 56ms/step - loss: 0.0038\n",
      "Epoch 5/25\n",
      "11/11 [==============================] - 1s 50ms/step - loss: 0.0033\n",
      "Epoch 6/25\n",
      "11/11 [==============================] - 1s 52ms/step - loss: 0.0034\n",
      "Epoch 7/25\n",
      "11/11 [==============================] - 1s 50ms/step - loss: 0.0026\n",
      "Epoch 8/25\n",
      "11/11 [==============================] - 1s 51ms/step - loss: 0.0022\n",
      "Epoch 9/25\n",
      "11/11 [==============================] - 1s 56ms/step - loss: 0.0026\n",
      "Epoch 10/25\n",
      "11/11 [==============================] - 1s 61ms/step - loss: 0.0023\n",
      "Epoch 11/25\n",
      "11/11 [==============================] - 1s 57ms/step - loss: 0.0027\n",
      "Epoch 12/25\n",
      "11/11 [==============================] - 1s 56ms/step - loss: 0.0033\n",
      "Epoch 13/25\n",
      "11/11 [==============================] - 1s 57ms/step - loss: 0.0027\n",
      "Epoch 14/25\n",
      "11/11 [==============================] - 1s 59ms/step - loss: 0.0032\n",
      "Epoch 15/25\n",
      "11/11 [==============================] - 1s 52ms/step - loss: 0.0038\n",
      "Epoch 16/25\n",
      "11/11 [==============================] - 1s 50ms/step - loss: 0.0028\n",
      "Epoch 17/25\n",
      "11/11 [==============================] - 1s 53ms/step - loss: 0.0034\n",
      "Epoch 18/25\n",
      "11/11 [==============================] - 1s 56ms/step - loss: 0.0022\n",
      "Epoch 19/25\n",
      "11/11 [==============================] - 1s 57ms/step - loss: 0.0024\n",
      "Epoch 20/25\n",
      "11/11 [==============================] - 1s 56ms/step - loss: 0.0025\n",
      "Epoch 21/25\n",
      "11/11 [==============================] - 1s 57ms/step - loss: 0.0021\n",
      "Epoch 22/25\n",
      "11/11 [==============================] - 1s 57ms/step - loss: 0.0022\n",
      "Epoch 23/25\n",
      "11/11 [==============================] - 1s 57ms/step - loss: 0.0028\n",
      "Epoch 24/25\n",
      "11/11 [==============================] - 1s 57ms/step - loss: 0.0019\n",
      "Epoch 25/25\n",
      "11/11 [==============================] - 1s 57ms/step - loss: 0.0018\n"
     ]
    },
    {
     "data": {
      "text/plain": [
       "<keras.src.callbacks.History at 0x2ba151190>"
      ]
     },
     "execution_count": 54,
     "metadata": {},
     "output_type": "execute_result"
    }
   ],
   "source": [
    "model.fit(\n",
    "    x_train,\n",
    "    y_train,\n",
    "    epochs=25,\n",
    "    batch_size = 32,\n",
    ")"
   ]
  },
  {
   "cell_type": "markdown",
   "metadata": {},
   "source": [
    "Test Against Weekly prices over the past 3 years"
   ]
  },
  {
   "cell_type": "code",
   "execution_count": null,
   "metadata": {},
   "outputs": [],
   "source": [
    "# Load test data for the specified company and date range\n",
    "test_data = load_data(\n",
    "    df,\n",
    "    start=START_DATE_TEST,\n",
    "    end=dt.datetime.now()\n",
    ")\n",
    "\n",
    "# Extract the actual closing prices from the test data\n",
    "actual_prices = test_data['Close'].values\n",
    "\n",
    "# Concatenate the training and test data along the 'Close' column\n",
    "total_dataset = pd.concat((train_data['Close'], test_data['Close']), axis=0)\n",
    "\n",
    "# Extract the relevant portion of the dataset for model inputs\n",
    "model_inputs = total_dataset[len(total_dataset) - len(test_data) - prediction_weeks:].values\n",
    "#model inputs start x prediction days before the first day we want to predict\n",
    "\n",
    "# Reshape the model inputs to a 2D array with a single column\n",
    "model_inputs = model_inputs.reshape(-1, 1)\n",
    "\n",
    "# Apply the same scaling used for training data to the model inputs\n",
    "model_inputs = scaler.transform(model_inputs)"
   ]
  },
  {
   "cell_type": "code",
   "execution_count": null,
   "metadata": {},
   "outputs": [
    {
     "name": "stdout",
     "output_type": "stream",
     "text": [
      "5/5 [==============================] - 0s 14ms/step\n"
     ]
    }
   ],
   "source": [
    "# Initialize an empty list for test data input\n",
    "x_test = []\n",
    "\n",
    "# Iterate through the model inputs, starting from the prediction_weeks index\n",
    "for x in range(prediction_weeks, len(model_inputs)):\n",
    "    # Append the previous 'prediction_weeks' values to x_test\n",
    "    x_test.append(model_inputs[x-prediction_weeks:x, 0])\n",
    "\n",
    "# Convert the x_test list to a numpy array\n",
    "x_test = np.array(x_test)\n",
    "\n",
    "# Reshape x_test to a 3D array with the appropriate dimensions for the LSTM model\n",
    "x_test = np.reshape(x_test, (x_test.shape[0], x_test.shape[1], 1))\n",
    "\n",
    "# Generate price predictions using the LSTM model\n",
    "predicted_prices = model.predict(x_test)\n",
    "\n",
    "# Invert the scaling applied to the predicted prices to obtain actual values\n",
    "predicted_prices = scaler.inverse_transform(predicted_prices)"
   ]
  },
  {
   "cell_type": "code",
   "execution_count": null,
   "metadata": {},
   "outputs": [
    {
     "data": {
      "image/png": "[encoded data removed]",
      "text/plain": [
       "<Figure size 640x480 with 1 Axes>"
      ]
     },
     "metadata": {},
     "output_type": "display_data"
    }
   ],
   "source": [
    "# Plot the actual prices using a black line\n",
    "plt.plot(actual_prices, color='black', label=f\"Actual Weekly AMZN price\")\n",
    "\n",
    "# Plot the predicted prices using a green line\n",
    "plt.plot(predicted_prices, color='green', label=f\"Predicted Weekly AMZN price\")\n",
    "\n",
    "# Set the title of the plot using the company name\n",
    "plt.title(f\"AMZN share price\")\n",
    "\n",
    "# Set the x-axis label as 'time'\n",
    "plt.xlabel(\"time\")\n",
    "\n",
    "# Set the y-axis label using the company name\n",
    "plt.ylabel(f\"AMZN share price\")\n",
    "\n",
    "# Display a legend to differentiate the actual and predicted prices\n",
    "plt.legend()\n",
    "\n",
    "# Show the plot on the screen\n",
    "plt.show()"
   ]
  },
  {
   "cell_type": "code",
   "execution_count": null,
   "metadata": {},
   "outputs": [
    {
     "name": "stdout",
     "output_type": "stream",
     "text": [
      "1/1 [==============================] - 0s 480ms/step\n",
      "Prediction: 133.53839111328125\n"
     ]
    }
   ],
   "source": [
    "# Extract the last 'prediction_days' values from the model inputs to make a prediction for the future\n",
    "real_data = [model_inputs[len(model_inputs) + 1 - prediction_weeks:len(model_inputs + 1), 0]]\n",
    "\n",
    "# Convert the real_data list to a numpy array\n",
    "real_data = np.array(real_data)\n",
    "\n",
    "# Reshape real_data to a 3D array with the appropriate dimensions for the LSTM model\n",
    "real_data = np.reshape(real_data, (real_data.shape[0], real_data.shape[1], 1))\n",
    "\n",
    "# Generate a prediction using the LSTM model with the real_data input\n",
    "prediction = model.predict(real_data) #prediction for 10/25\n",
    "\n",
    "# Invert the scaling applied to the prediction to obtain the actual value\n",
    "prediction = scaler.inverse_transform(prediction)\n",
    "\n",
    "# Print the prediction result to the console - Prediction for 11/2\n",
    "print(f\"Prediction: {prediction[0][0]}\")"
   ]
  },
  {
   "cell_type": "markdown",
   "metadata": {},
   "source": [
    "Test Evaluation"
   ]
  },
  {
   "cell_type": "code",
   "execution_count": null,
   "metadata": {},
   "outputs": [
    {
     "name": "stdout",
     "output_type": "stream",
     "text": [
      "Avergae percent error:  7.330200063239234\n",
      "Root Mean Square Error (RMSE): 12.388689707494217\n",
      "Out-of-sample R-squared: 0.7993195905335669\n"
     ]
    }
   ],
   "source": [
    "predicted_prices1D = predicted_prices.flatten()\n",
    "\n",
    "# Average percent error\n",
    "\n",
    "percent_error = (np.abs(actual_prices - predicted_prices1D) / actual_prices) * 100\n",
    "avg_percent_error = np.sum(percent_error) / len(percent_error)\n",
    "print(\"Avergae percent error: \", avg_percent_error)\n",
    "\n",
    "# RMSE\n",
    "# Step 1: Calculate the squared differences\n",
    "squared_diff = (predicted_prices1D - actual_prices) ** 2\n",
    "\n",
    "# Step 2: Compute the mean of squared differences\n",
    "mean_squared_diff = squared_diff.mean()\n",
    "\n",
    "# Step 3: Take the square root to get RMSE\n",
    "rmse = np.sqrt(mean_squared_diff)\n",
    "\n",
    "print(\"Root Mean Square Error (RMSE):\", rmse)\n",
    "\n",
    "\n",
    "# Out of Sample R square\n",
    "# Calculate the mean of the actual target values\n",
    "actual_mean = np.mean(actual_prices)\n",
    "\n",
    "# Calculate SST, SSR, and SSE\n",
    "SST = np.sum((actual_prices - actual_mean) ** 2)\n",
    "SSE = np.sum((actual_prices - predicted_prices1D) ** 2)\n",
    "\n",
    "# Calculate out-of-sample R-squared\n",
    "out_of_sample_r_squared = 1 - (SSE / SST)\n",
    "\n",
    "print(\"Out-of-sample R-squared:\", out_of_sample_r_squared)"
   ]
  }
 ],
 "metadata": {
  "kernelspec": {
   "display_name": "Python 3",
   "language": "python",
   "name": "python3"
  },
  "language_info": {
   "codemirror_mode": {
    "name": "ipython",
    "version": 3
   },
   "file_extension": ".py",
   "mimetype": "text/x-python",
   "name": "python",
   "nbconvert_exporter": "python",
   "pygments_lexer": "ipython3",
   "version": "3.11.2"
  }
 },
 "nbformat": 4,
 "nbformat_minor": 2
}
