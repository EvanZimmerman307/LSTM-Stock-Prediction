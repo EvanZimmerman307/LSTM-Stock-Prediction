{
  "cells": [
    {
      "cell_type": "markdown",
      "metadata": {
        "id": "9q1BFxyh7Z4S"
      },
      "source": [
        "The objective of this notebook is to gain a foundational understanding of forecasting stock prices with LSTMs."
      ]
    },
    {
      "cell_type": "markdown",
      "metadata": {},
      "source": [
        "# Daily Forecasting"
      ]
    },
    {
      "cell_type": "markdown",
      "metadata": {
        "id": "tjW7VHPG7LV3"
      },
      "source": [
        "# Imports\n"
      ]
    },
    {
      "cell_type": "code",
      "execution_count": 3,
      "metadata": {
        "id": "iFHK-9mV6uMv"
      },
      "outputs": [],
      "source": [
        "import numpy as np\n",
        "import pandas as pd\n",
        "\n",
        "import os\n",
        "import matplotlib.pyplot as plt\n",
        "import pandas_datareader as web\n",
        "import datetime as dt\n",
        "\n",
        "from sklearn.preprocessing import MinMaxScaler\n",
        "from tensorflow.keras.models import Sequential\n",
        "from tensorflow.keras.layers import Dense, Dropout, LSTM\n",
        "from tensorflow.keras.callbacks import ModelCheckpoint, EarlyStopping"
      ]
    },
    {
      "cell_type": "markdown",
      "metadata": {
        "id": "Gf3QmX4_8J-y"
      },
      "source": [
        "# Pre-processing"
      ]
    },
    {
      "cell_type": "code",
      "execution_count": null,
      "metadata": {
        "colab": {
          "base_uri": "https://localhost:8080/",
          "height": 38
        },
        "id": "l_fTEMIO8Now",
        "outputId": "b7109b21-391d-40d2-fdc4-0e2acc5ef9ea"
      },
      "outputs": [
        {
          "data": {
            "text/html": [
              "\n",
              "     <input type=\"file\" id=\"files-7dc5e810-0606-42dd-9204-b67463a005e8\" name=\"files[]\" multiple disabled\n",
              "        style=\"border:none\" />\n",
              "     <output id=\"result-7dc5e810-0606-42dd-9204-b67463a005e8\">\n",
              "      Upload widget is only available when the cell has been executed in the\n",
              "      current browser session. Please rerun this cell to enable.\n",
              "      </output>\n",
              "      <script>// Copyright 2017 Google LLC\n",
              "//\n",
              "// Licensed under the Apache License, Version 2.0 (the \"License\");\n",
              "// you may not use this file except in compliance with the License.\n",
              "// You may obtain a copy of the License at\n",
              "//\n",
              "//      http://www.apache.org/licenses/LICENSE-2.0\n",
              "//\n",
              "// Unless required by applicable law or agreed to in writing, software\n",
              "// distributed under the License is distributed on an \"AS IS\" BASIS,\n",
              "// WITHOUT WARRANTIES OR CONDITIONS OF ANY KIND, either express or implied.\n",
              "// See the License for the specific language governing permissions and\n",
              "// limitations under the License.\n",
              "\n",
              "/**\n",
              " * @fileoverview Helpers for google.colab Python module.\n",
              " */\n",
              "(function(scope) {\n",
              "function span(text, styleAttributes = {}) {\n",
              "  const element = document.createElement('span');\n",
              "  element.textContent = text;\n",
              "  for (const key of Object.keys(styleAttributes)) {\n",
              "    element.style[key] = styleAttributes[key];\n",
              "  }\n",
              "  return element;\n",
              "}\n",
              "\n",
              "// Max number of bytes which will be uploaded at a time.\n",
              "const MAX_PAYLOAD_SIZE = 100 * 1024;\n",
              "\n",
              "function _uploadFiles(inputId, outputId) {\n",
              "  const steps = uploadFilesStep(inputId, outputId);\n",
              "  const outputElement = document.getElementById(outputId);\n",
              "  // Cache steps on the outputElement to make it available for the next call\n",
              "  // to uploadFilesContinue from Python.\n",
              "  outputElement.steps = steps;\n",
              "\n",
              "  return _uploadFilesContinue(outputId);\n",
              "}\n",
              "\n",
              "// This is roughly an async generator (not supported in the browser yet),\n",
              "// where there are multiple asynchronous steps and the Python side is going\n",
              "// to poll for completion of each step.\n",
              "// This uses a Promise to block the python side on completion of each step,\n",
              "// then passes the result of the previous step as the input to the next step.\n",
              "function _uploadFilesContinue(outputId) {\n",
              "  const outputElement = document.getElementById(outputId);\n",
              "  const steps = outputElement.steps;\n",
              "\n",
              "  const next = steps.next(outputElement.lastPromiseValue);\n",
              "  return Promise.resolve(next.value.promise).then((value) => {\n",
              "    // Cache the last promise value to make it available to the next\n",
              "    // step of the generator.\n",
              "    outputElement.lastPromiseValue = value;\n",
              "    return next.value.response;\n",
              "  });\n",
              "}\n",
              "\n",
              "/**\n",
              " * Generator function which is called between each async step of the upload\n",
              " * process.\n",
              " * @param {string} inputId Element ID of the input file picker element.\n",
              " * @param {string} outputId Element ID of the output display.\n",
              " * @return {!Iterable<!Object>} Iterable of next steps.\n",
              " */\n",
              "function* uploadFilesStep(inputId, outputId) {\n",
              "  const inputElement = document.getElementById(inputId);\n",
              "  inputElement.disabled = false;\n",
              "\n",
              "  const outputElement = document.getElementById(outputId);\n",
              "  outputElement.innerHTML = '';\n",
              "\n",
              "  const pickedPromise = new Promise((resolve) => {\n",
              "    inputElement.addEventListener('change', (e) => {\n",
              "      resolve(e.target.files);\n",
              "    });\n",
              "  });\n",
              "\n",
              "  const cancel = document.createElement('button');\n",
              "  inputElement.parentElement.appendChild(cancel);\n",
              "  cancel.textContent = 'Cancel upload';\n",
              "  const cancelPromise = new Promise((resolve) => {\n",
              "    cancel.onclick = () => {\n",
              "      resolve(null);\n",
              "    };\n",
              "  });\n",
              "\n",
              "  // Wait for the user to pick the files.\n",
              "  const files = yield {\n",
              "    promise: Promise.race([pickedPromise, cancelPromise]),\n",
              "    response: {\n",
              "      action: 'starting',\n",
              "    }\n",
              "  };\n",
              "\n",
              "  cancel.remove();\n",
              "\n",
              "  // Disable the input element since further picks are not allowed.\n",
              "  inputElement.disabled = true;\n",
              "\n",
              "  if (!files) {\n",
              "    return {\n",
              "      response: {\n",
              "        action: 'complete',\n",
              "      }\n",
              "    };\n",
              "  }\n",
              "\n",
              "  for (const file of files) {\n",
              "    const li = document.createElement('li');\n",
              "    li.append(span(file.name, {fontWeight: 'bold'}));\n",
              "    li.append(span(\n",
              "        `(${file.type || 'n/a'}) - ${file.size} bytes, ` +\n",
              "        `last modified: ${\n",
              "            file.lastModifiedDate ? file.lastModifiedDate.toLocaleDateString() :\n",
              "                                    'n/a'} - `));\n",
              "    const percent = span('0% done');\n",
              "    li.appendChild(percent);\n",
              "\n",
              "    outputElement.appendChild(li);\n",
              "\n",
              "    const fileDataPromise = new Promise((resolve) => {\n",
              "      const reader = new FileReader();\n",
              "      reader.onload = (e) => {\n",
              "        resolve(e.target.result);\n",
              "      };\n",
              "      reader.readAsArrayBuffer(file);\n",
              "    });\n",
              "    // Wait for the data to be ready.\n",
              "    let fileData = yield {\n",
              "      promise: fileDataPromise,\n",
              "      response: {\n",
              "        action: 'continue',\n",
              "      }\n",
              "    };\n",
              "\n",
              "    // Use a chunked sending to avoid message size limits. See b/62115660.\n",
              "    let position = 0;\n",
              "    do {\n",
              "      const length = Math.min(fileData.byteLength - position, MAX_PAYLOAD_SIZE);\n",
              "      const chunk = new Uint8Array(fileData, position, length);\n",
              "      position += length;\n",
              "\n",
              "      const base64 = btoa(String.fromCharCode.apply(null, chunk));\n",
              "      yield {\n",
              "        response: {\n",
              "          action: 'append',\n",
              "          file: file.name,\n",
              "          data: base64,\n",
              "        },\n",
              "      };\n",
              "\n",
              "      let percentDone = fileData.byteLength === 0 ?\n",
              "          100 :\n",
              "          Math.round((position / fileData.byteLength) * 100);\n",
              "      percent.textContent = `${percentDone}% done`;\n",
              "\n",
              "    } while (position < fileData.byteLength);\n",
              "  }\n",
              "\n",
              "  // All done.\n",
              "  yield {\n",
              "    response: {\n",
              "      action: 'complete',\n",
              "    }\n",
              "  };\n",
              "}\n",
              "\n",
              "scope.google = scope.google || {};\n",
              "scope.google.colab = scope.google.colab || {};\n",
              "scope.google.colab._files = {\n",
              "  _uploadFiles,\n",
              "  _uploadFilesContinue,\n",
              "};\n",
              "})(self);\n",
              "</script> "
            ],
            "text/plain": [
              "<IPython.core.display.HTML object>"
            ]
          },
          "metadata": {},
          "output_type": "display_data"
        }
      ],
      "source": [
        "#from google.colab import files\n",
        "#uploaded = files.upload()"
      ]
    },
    {
      "cell_type": "code",
      "execution_count": 4,
      "metadata": {
        "id": "3HVPX36w96XR"
      },
      "outputs": [],
      "source": [
        "import io\n",
        "#df = pd.read_csv(io.BytesIO(uploaded['^IXIC (1).csv']))\n",
        "df = pd.read_csv('^IXIC.csv')"
      ]
    },
    {
      "cell_type": "code",
      "execution_count": 5,
      "metadata": {
        "id": "AvV2c2sdV_H0"
      },
      "outputs": [],
      "source": [
        "def load_data(df, start, end):\n",
        "    \"\"\"\n",
        "    Load data for the date range.\n",
        "\n",
        "    :param start: The starting date for the data range (str or datetime)\n",
        "    :param end: The ending date for the data range (str or datetime)\n",
        "    :return: A dataframe containing the relevant stock data (pandas.DataFrame)\n",
        "    \"\"\"\n",
        "    dataframe = df.copy()\n",
        "    dataframe = dataframe.loc[(dataframe['Date'] > start) & (dataframe['Date'] < end), :]\n",
        "    return dataframe"
      ]
    },
    {
      "cell_type": "code",
      "execution_count": 6,
      "metadata": {
        "id": "lHACxXSNWXJK"
      },
      "outputs": [],
      "source": [
        "START_DATE = dt.datetime(2013,10,25)\n",
        "END_DATE = dt.datetime(2020,10,25)\n",
        "\n",
        "START_DATE_TEST = END_DATE"
      ]
    },
    {
      "cell_type": "code",
      "execution_count": 7,
      "metadata": {
        "id": "USKnVCBs_fIs"
      },
      "outputs": [
        {
          "data": {
            "text/html": [
              "<div>\n",
              "<style scoped>\n",
              "    .dataframe tbody tr th:only-of-type {\n",
              "        vertical-align: middle;\n",
              "    }\n",
              "\n",
              "    .dataframe tbody tr th {\n",
              "        vertical-align: top;\n",
              "    }\n",
              "\n",
              "    .dataframe thead th {\n",
              "        text-align: right;\n",
              "    }\n",
              "</style>\n",
              "<table border=\"1\" class=\"dataframe\">\n",
              "  <thead>\n",
              "    <tr style=\"text-align: right;\">\n",
              "      <th></th>\n",
              "      <th>Date</th>\n",
              "      <th>Open</th>\n",
              "      <th>High</th>\n",
              "      <th>Low</th>\n",
              "      <th>Close</th>\n",
              "      <th>Adj Close</th>\n",
              "      <th>Volume</th>\n",
              "    </tr>\n",
              "  </thead>\n",
              "  <tbody>\n",
              "    <tr>\n",
              "      <th>0</th>\n",
              "      <td>2013-10-25</td>\n",
              "      <td>3955.979980</td>\n",
              "      <td>3961.100098</td>\n",
              "      <td>3927.500000</td>\n",
              "      <td>3943.360107</td>\n",
              "      <td>3943.360107</td>\n",
              "      <td>2225780000</td>\n",
              "    </tr>\n",
              "    <tr>\n",
              "      <th>1</th>\n",
              "      <td>2013-10-28</td>\n",
              "      <td>3942.560059</td>\n",
              "      <td>3947.580078</td>\n",
              "      <td>3927.090088</td>\n",
              "      <td>3940.129883</td>\n",
              "      <td>3940.129883</td>\n",
              "      <td>1904810000</td>\n",
              "    </tr>\n",
              "    <tr>\n",
              "      <th>2</th>\n",
              "      <td>2013-10-29</td>\n",
              "      <td>3954.340088</td>\n",
              "      <td>3957.120117</td>\n",
              "      <td>3934.939941</td>\n",
              "      <td>3952.340088</td>\n",
              "      <td>3952.340088</td>\n",
              "      <td>1897380000</td>\n",
              "    </tr>\n",
              "    <tr>\n",
              "      <th>3</th>\n",
              "      <td>2013-10-30</td>\n",
              "      <td>3962.399902</td>\n",
              "      <td>3966.709961</td>\n",
              "      <td>3919.139893</td>\n",
              "      <td>3930.620117</td>\n",
              "      <td>3930.620117</td>\n",
              "      <td>1923000000</td>\n",
              "    </tr>\n",
              "    <tr>\n",
              "      <th>4</th>\n",
              "      <td>2013-10-31</td>\n",
              "      <td>3924.340088</td>\n",
              "      <td>3945.040039</td>\n",
              "      <td>3909.260010</td>\n",
              "      <td>3919.709961</td>\n",
              "      <td>3919.709961</td>\n",
              "      <td>2139650000</td>\n",
              "    </tr>\n",
              "    <tr>\n",
              "      <th>...</th>\n",
              "      <td>...</td>\n",
              "      <td>...</td>\n",
              "      <td>...</td>\n",
              "      <td>...</td>\n",
              "      <td>...</td>\n",
              "      <td>...</td>\n",
              "      <td>...</td>\n",
              "    </tr>\n",
              "    <tr>\n",
              "      <th>2511</th>\n",
              "      <td>2023-10-18</td>\n",
              "      <td>13439.679688</td>\n",
              "      <td>13499.740234</td>\n",
              "      <td>13275.299805</td>\n",
              "      <td>13314.299805</td>\n",
              "      <td>13314.299805</td>\n",
              "      <td>4617140000</td>\n",
              "    </tr>\n",
              "    <tr>\n",
              "      <th>2512</th>\n",
              "      <td>2023-10-19</td>\n",
              "      <td>13354.799805</td>\n",
              "      <td>13404.730469</td>\n",
              "      <td>13157.330078</td>\n",
              "      <td>13186.179688</td>\n",
              "      <td>13186.179688</td>\n",
              "      <td>5014790000</td>\n",
              "    </tr>\n",
              "    <tr>\n",
              "      <th>2513</th>\n",
              "      <td>2023-10-20</td>\n",
              "      <td>13157.769531</td>\n",
              "      <td>13177.349609</td>\n",
              "      <td>12977.429688</td>\n",
              "      <td>12983.809570</td>\n",
              "      <td>12983.809570</td>\n",
              "      <td>4622840000</td>\n",
              "    </tr>\n",
              "    <tr>\n",
              "      <th>2514</th>\n",
              "      <td>2023-10-23</td>\n",
              "      <td>12930.849609</td>\n",
              "      <td>13143.219727</td>\n",
              "      <td>12848.830078</td>\n",
              "      <td>13018.330078</td>\n",
              "      <td>13018.330078</td>\n",
              "      <td>4669060000</td>\n",
              "    </tr>\n",
              "    <tr>\n",
              "      <th>2515</th>\n",
              "      <td>2023-10-24</td>\n",
              "      <td>13084.990234</td>\n",
              "      <td>13170.389648</td>\n",
              "      <td>13022.849609</td>\n",
              "      <td>13139.870117</td>\n",
              "      <td>13139.870117</td>\n",
              "      <td>4604720000</td>\n",
              "    </tr>\n",
              "  </tbody>\n",
              "</table>\n",
              "<p>2516 rows × 7 columns</p>\n",
              "</div>"
            ],
            "text/plain": [
              "           Date          Open          High           Low         Close  \\\n",
              "0    2013-10-25   3955.979980   3961.100098   3927.500000   3943.360107   \n",
              "1    2013-10-28   3942.560059   3947.580078   3927.090088   3940.129883   \n",
              "2    2013-10-29   3954.340088   3957.120117   3934.939941   3952.340088   \n",
              "3    2013-10-30   3962.399902   3966.709961   3919.139893   3930.620117   \n",
              "4    2013-10-31   3924.340088   3945.040039   3909.260010   3919.709961   \n",
              "...         ...           ...           ...           ...           ...   \n",
              "2511 2023-10-18  13439.679688  13499.740234  13275.299805  13314.299805   \n",
              "2512 2023-10-19  13354.799805  13404.730469  13157.330078  13186.179688   \n",
              "2513 2023-10-20  13157.769531  13177.349609  12977.429688  12983.809570   \n",
              "2514 2023-10-23  12930.849609  13143.219727  12848.830078  13018.330078   \n",
              "2515 2023-10-24  13084.990234  13170.389648  13022.849609  13139.870117   \n",
              "\n",
              "         Adj Close      Volume  \n",
              "0      3943.360107  2225780000  \n",
              "1      3940.129883  1904810000  \n",
              "2      3952.340088  1897380000  \n",
              "3      3930.620117  1923000000  \n",
              "4      3919.709961  2139650000  \n",
              "...            ...         ...  \n",
              "2511  13314.299805  4617140000  \n",
              "2512  13186.179688  5014790000  \n",
              "2513  12983.809570  4622840000  \n",
              "2514  13018.330078  4669060000  \n",
              "2515  13139.870117  4604720000  \n",
              "\n",
              "[2516 rows x 7 columns]"
            ]
          },
          "execution_count": 7,
          "metadata": {},
          "output_type": "execute_result"
        }
      ],
      "source": [
        "# Convert 'Date' to datetime format\n",
        "df['Date'] = pd.to_datetime(df['Date'])\n",
        "df"
      ]
    },
    {
      "cell_type": "code",
      "execution_count": 8,
      "metadata": {
        "id": "ZBYDYuSTWkJd"
      },
      "outputs": [],
      "source": [
        "data = load_data(df,\n",
        "                 start = START_DATE,\n",
        "                 end = END_DATE)"
      ]
    },
    {
      "cell_type": "code",
      "execution_count": 9,
      "metadata": {
        "id": "tOM8IoyF-ofp"
      },
      "outputs": [
        {
          "data": {
            "text/html": [
              "<div>\n",
              "<style scoped>\n",
              "    .dataframe tbody tr th:only-of-type {\n",
              "        vertical-align: middle;\n",
              "    }\n",
              "\n",
              "    .dataframe tbody tr th {\n",
              "        vertical-align: top;\n",
              "    }\n",
              "\n",
              "    .dataframe thead th {\n",
              "        text-align: right;\n",
              "    }\n",
              "</style>\n",
              "<table border=\"1\" class=\"dataframe\">\n",
              "  <thead>\n",
              "    <tr style=\"text-align: right;\">\n",
              "      <th></th>\n",
              "      <th>Date</th>\n",
              "      <th>Open</th>\n",
              "      <th>High</th>\n",
              "      <th>Low</th>\n",
              "      <th>Close</th>\n",
              "      <th>Adj Close</th>\n",
              "      <th>Volume</th>\n",
              "    </tr>\n",
              "  </thead>\n",
              "  <tbody>\n",
              "    <tr>\n",
              "      <th>1</th>\n",
              "      <td>2013-10-28</td>\n",
              "      <td>3942.560059</td>\n",
              "      <td>3947.580078</td>\n",
              "      <td>3927.090088</td>\n",
              "      <td>3940.129883</td>\n",
              "      <td>3940.129883</td>\n",
              "      <td>1904810000</td>\n",
              "    </tr>\n",
              "    <tr>\n",
              "      <th>2</th>\n",
              "      <td>2013-10-29</td>\n",
              "      <td>3954.340088</td>\n",
              "      <td>3957.120117</td>\n",
              "      <td>3934.939941</td>\n",
              "      <td>3952.340088</td>\n",
              "      <td>3952.340088</td>\n",
              "      <td>1897380000</td>\n",
              "    </tr>\n",
              "    <tr>\n",
              "      <th>3</th>\n",
              "      <td>2013-10-30</td>\n",
              "      <td>3962.399902</td>\n",
              "      <td>3966.709961</td>\n",
              "      <td>3919.139893</td>\n",
              "      <td>3930.620117</td>\n",
              "      <td>3930.620117</td>\n",
              "      <td>1923000000</td>\n",
              "    </tr>\n",
              "    <tr>\n",
              "      <th>4</th>\n",
              "      <td>2013-10-31</td>\n",
              "      <td>3924.340088</td>\n",
              "      <td>3945.040039</td>\n",
              "      <td>3909.260010</td>\n",
              "      <td>3919.709961</td>\n",
              "      <td>3919.709961</td>\n",
              "      <td>2139650000</td>\n",
              "    </tr>\n",
              "    <tr>\n",
              "      <th>5</th>\n",
              "      <td>2013-11-01</td>\n",
              "      <td>3932.449951</td>\n",
              "      <td>3938.479980</td>\n",
              "      <td>3904.199951</td>\n",
              "      <td>3922.040039</td>\n",
              "      <td>3922.040039</td>\n",
              "      <td>1949460000</td>\n",
              "    </tr>\n",
              "    <tr>\n",
              "      <th>...</th>\n",
              "      <td>...</td>\n",
              "      <td>...</td>\n",
              "      <td>...</td>\n",
              "      <td>...</td>\n",
              "      <td>...</td>\n",
              "      <td>...</td>\n",
              "      <td>...</td>\n",
              "    </tr>\n",
              "    <tr>\n",
              "      <th>1757</th>\n",
              "      <td>2020-10-19</td>\n",
              "      <td>11732.339844</td>\n",
              "      <td>11778.110352</td>\n",
              "      <td>11454.570313</td>\n",
              "      <td>11478.879883</td>\n",
              "      <td>11478.879883</td>\n",
              "      <td>3477410000</td>\n",
              "    </tr>\n",
              "    <tr>\n",
              "      <th>1758</th>\n",
              "      <td>2020-10-20</td>\n",
              "      <td>11531.830078</td>\n",
              "      <td>11632.889648</td>\n",
              "      <td>11471.230469</td>\n",
              "      <td>11516.490234</td>\n",
              "      <td>11516.490234</td>\n",
              "      <td>3510040000</td>\n",
              "    </tr>\n",
              "    <tr>\n",
              "      <th>1759</th>\n",
              "      <td>2020-10-21</td>\n",
              "      <td>11530.389648</td>\n",
              "      <td>11613.790039</td>\n",
              "      <td>11476.080078</td>\n",
              "      <td>11484.690430</td>\n",
              "      <td>11484.690430</td>\n",
              "      <td>3467310000</td>\n",
              "    </tr>\n",
              "    <tr>\n",
              "      <th>1760</th>\n",
              "      <td>2020-10-22</td>\n",
              "      <td>11526.969727</td>\n",
              "      <td>11548.769531</td>\n",
              "      <td>11369.290039</td>\n",
              "      <td>11506.009766</td>\n",
              "      <td>11506.009766</td>\n",
              "      <td>3434040000</td>\n",
              "    </tr>\n",
              "    <tr>\n",
              "      <th>1761</th>\n",
              "      <td>2020-10-23</td>\n",
              "      <td>11536.009766</td>\n",
              "      <td>11548.849609</td>\n",
              "      <td>11434.860352</td>\n",
              "      <td>11548.280273</td>\n",
              "      <td>11548.280273</td>\n",
              "      <td>3145570000</td>\n",
              "    </tr>\n",
              "  </tbody>\n",
              "</table>\n",
              "<p>1761 rows × 7 columns</p>\n",
              "</div>"
            ],
            "text/plain": [
              "           Date          Open          High           Low         Close  \\\n",
              "1    2013-10-28   3942.560059   3947.580078   3927.090088   3940.129883   \n",
              "2    2013-10-29   3954.340088   3957.120117   3934.939941   3952.340088   \n",
              "3    2013-10-30   3962.399902   3966.709961   3919.139893   3930.620117   \n",
              "4    2013-10-31   3924.340088   3945.040039   3909.260010   3919.709961   \n",
              "5    2013-11-01   3932.449951   3938.479980   3904.199951   3922.040039   \n",
              "...         ...           ...           ...           ...           ...   \n",
              "1757 2020-10-19  11732.339844  11778.110352  11454.570313  11478.879883   \n",
              "1758 2020-10-20  11531.830078  11632.889648  11471.230469  11516.490234   \n",
              "1759 2020-10-21  11530.389648  11613.790039  11476.080078  11484.690430   \n",
              "1760 2020-10-22  11526.969727  11548.769531  11369.290039  11506.009766   \n",
              "1761 2020-10-23  11536.009766  11548.849609  11434.860352  11548.280273   \n",
              "\n",
              "         Adj Close      Volume  \n",
              "1      3940.129883  1904810000  \n",
              "2      3952.340088  1897380000  \n",
              "3      3930.620117  1923000000  \n",
              "4      3919.709961  2139650000  \n",
              "5      3922.040039  1949460000  \n",
              "...            ...         ...  \n",
              "1757  11478.879883  3477410000  \n",
              "1758  11516.490234  3510040000  \n",
              "1759  11484.690430  3467310000  \n",
              "1760  11506.009766  3434040000  \n",
              "1761  11548.280273  3145570000  \n",
              "\n",
              "[1761 rows x 7 columns]"
            ]
          },
          "execution_count": 9,
          "metadata": {},
          "output_type": "execute_result"
        }
      ],
      "source": [
        "data"
      ]
    },
    {
      "cell_type": "code",
      "execution_count": 10,
      "metadata": {
        "id": "4nQwse57-IjM"
      },
      "outputs": [],
      "source": [
        "# Normalize Data\n",
        "scaler = MinMaxScaler(feature_range=(0,1)) # Why do we need to do this?\n",
        "scaled_data = scaler.fit_transform(data['Close'].values.reshape(-1,1))"
      ]
    },
    {
      "cell_type": "markdown",
      "metadata": {
        "id": "4VykzrDlE43R"
      },
      "source": [
        "Based on the number of prediction days specified, Each element of the training data input (x_train) will be *x* prediction days worth of close prices. The element at the corresponding index in the training output (y_train) will be the close price of the day immediately following the last prediction day.\n",
        "\n",
        "For example:\n",
        "\n",
        "x_train[0] = scaled_data[0:150,0]\n",
        "\n",
        "y_train[0] = scaled_data[150,0]"
      ]
    },
    {
      "cell_type": "code",
      "execution_count": 11,
      "metadata": {
        "id": "UkTi4R-d-bXB"
      },
      "outputs": [],
      "source": [
        "# Set the number of days used for prediction\n",
        "prediction_days = 150\n",
        "\n",
        "# Initialize empty lists for training data input and output\n",
        "x_train = []\n",
        "y_train = []\n",
        "\n",
        "# Iterate through the scaled data, starting from the prediction_days index\n",
        "for x in range(prediction_days, len(scaled_data)):\n",
        "    # Append the previous 'prediction_days' values to x_train\n",
        "    x_train.append(scaled_data[x - prediction_days:x, 0])\n",
        "    # Append the current value to y_train\n",
        "    y_train.append(scaled_data[x, 0])\n",
        "\n",
        "# Convert the x_train and y_train lists to numpy arrays\n",
        "x_train, y_train = np.array(x_train), np.array(y_train)\n",
        "\n",
        "# Reshape x_train to a 3D array with the appropriate dimensions for the LSTM model\n",
        "x_train = np.reshape(x_train, (x_train.shape[0], x_train.shape[1], 1))\n",
        "# Think of this as a list of 2D arrays it should have dimensions (150,1,2366)"
      ]
    },
    {
      "cell_type": "markdown",
      "metadata": {
        "id": "UZyg8QCpG2oY"
      },
      "source": [
        "# LSTM Model"
      ]
    },
    {
      "cell_type": "code",
      "execution_count": 13,
      "metadata": {
        "id": "Jo__dHF4G5ST"
      },
      "outputs": [],
      "source": [
        "def LSTM_model():\n",
        "    # Initialize a sequential model\n",
        "    model = Sequential()\n",
        "\n",
        "    # Add the first LSTM layer with 50 units, input shape, and return sequences\n",
        "    model.add(LSTM(units=50, return_sequences=True, input_shape=(x_train.shape[1], 1)))\n",
        "    # Add dropout to prevent overfitting\n",
        "    model.add(Dropout(0.2))\n",
        "\n",
        "     # Add a second LSTM layer with 50 units and return sequences\n",
        "    model.add(LSTM(units=50, return_sequences=True))\n",
        "    # Add dropout to prevent overfitting\n",
        "    model.add(Dropout(0.2))\n",
        "\n",
        "    # Add a third LSTM layer with 50 units\n",
        "    model.add(LSTM(units=50))\n",
        "    # Add dropout to prevent overfitting\n",
        "    model.add(Dropout(0.2))\n",
        "\n",
        "    # Add a dense output layer with one unit\n",
        "    model.add(Dense(units=1))\n",
        "\n",
        "    return model"
      ]
    },
    {
      "cell_type": "markdown",
      "metadata": {
        "id": "LHKZ1_a2IBPW"
      },
      "source": [
        "return_sequences=True means if you have a sequence of input data, this setting ensures that the LSTM layer produces an output for each time step in the input sequence.\n",
        "\n",
        "x_train.shape[1] represents the number of time steps in your input sequences (prediction_days). 1 represents the number of features or input dimensions at each time step. In this case, it's assumed to be 1, indicating that the input data is univariate (one feature per time step).\n",
        "\n",
        "Dropout(0.2): This is specifying the Dropout layer itself. The Dropout layer randomly sets a fraction of input units to 0 at each update during training. In this case, 0.2 is the dropout rate, which means it will drop out (set to 0) 20% of the input units during training. The purpose of using dropout is to introduce some level of randomness and redundancy during training. This helps in preventing the model from becoming too reliant on specific neurons and encourages it to learn more robust and generalizable features.\n",
        "\n",
        "The final dense layer contains a single neuron that is connected to every neuron in the previous layer. Dense layers are commonly used as the final layers of regressions tasks where the goal is to produce a single output value."
      ]
    },
    {
      "cell_type": "markdown",
      "metadata": {
        "id": "fUX2w5oXLVsj"
      },
      "source": [
        "# Training"
      ]
    },
    {
      "cell_type": "code",
      "execution_count": 14,
      "metadata": {
        "id": "tRNMMO9JIPr8"
      },
      "outputs": [
        {
          "name": "stdout",
          "output_type": "stream",
          "text": [
            "Model: \"sequential\"\n",
            "_________________________________________________________________\n",
            " Layer (type)                Output Shape              Param #   \n",
            "=================================================================\n",
            " lstm (LSTM)                 (None, 150, 50)           10400     \n",
            "                                                                 \n",
            " dropout (Dropout)           (None, 150, 50)           0         \n",
            "                                                                 \n",
            " lstm_1 (LSTM)               (None, 150, 50)           20200     \n",
            "                                                                 \n",
            " dropout_1 (Dropout)         (None, 150, 50)           0         \n",
            "                                                                 \n",
            " lstm_2 (LSTM)               (None, 50)                20200     \n",
            "                                                                 \n",
            " dropout_2 (Dropout)         (None, 50)                0         \n",
            "                                                                 \n",
            " dense (Dense)               (None, 1)                 51        \n",
            "                                                                 \n",
            "=================================================================\n",
            "Total params: 50851 (198.64 KB)\n",
            "Trainable params: 50851 (198.64 KB)\n",
            "Non-trainable params: 0 (0.00 Byte)\n",
            "_________________________________________________________________\n"
          ]
        }
      ],
      "source": [
        "model = LSTM_model()\n",
        "model.summary()\n",
        "model.compile(\n",
        "    optimizer='adam',\n",
        "    loss='mean_squared_error'\n",
        ")"
      ]
    },
    {
      "cell_type": "markdown",
      "metadata": {
        "id": "t77XDQ9BUJW_"
      },
      "source": [
        "'adam' (Adaptive Moment Estimation) is a optimization algorithm. It adapts the learning rates for each parameter during training, making it an efficient and effective choice for many tasks. MSE measures the mean of the squared differences between predicted and actual values"
      ]
    },
    {
      "cell_type": "code",
      "execution_count": 15,
      "metadata": {
        "id": "VFd4efzKUjyQ"
      },
      "outputs": [
        {
          "name": "stdout",
          "output_type": "stream",
          "text": [
            "Epoch 1/25\n",
            "51/51 [==============================] - ETA: 0s - loss: 0.0132WARNING:tensorflow:Can save best model only with val_loss available, skipping.\n",
            "51/51 [==============================] - 6s 77ms/step - loss: 0.0132\n",
            "Epoch 2/25\n",
            "51/51 [==============================] - ETA: 0s - loss: 0.0023WARNING:tensorflow:Can save best model only with val_loss available, skipping.\n",
            "51/51 [==============================] - 4s 77ms/step - loss: 0.0023\n",
            "Epoch 3/25\n",
            "51/51 [==============================] - ETA: 0s - loss: 0.0024WARNING:tensorflow:Can save best model only with val_loss available, skipping.\n",
            "51/51 [==============================] - 4s 78ms/step - loss: 0.0024\n",
            "Epoch 4/25\n",
            "51/51 [==============================] - ETA: 0s - loss: 0.0023WARNING:tensorflow:Can save best model only with val_loss available, skipping.\n",
            "51/51 [==============================] - 4s 77ms/step - loss: 0.0023\n",
            "Epoch 5/25\n",
            "51/51 [==============================] - ETA: 0s - loss: 0.0019WARNING:tensorflow:Can save best model only with val_loss available, skipping.\n",
            "51/51 [==============================] - 4s 76ms/step - loss: 0.0019\n",
            "Epoch 6/25\n",
            "51/51 [==============================] - ETA: 0s - loss: 0.0021WARNING:tensorflow:Can save best model only with val_loss available, skipping.\n",
            "51/51 [==============================] - 4s 81ms/step - loss: 0.0021\n",
            "Epoch 7/25\n",
            "51/51 [==============================] - ETA: 0s - loss: 0.0021WARNING:tensorflow:Can save best model only with val_loss available, skipping.\n",
            "51/51 [==============================] - 4s 81ms/step - loss: 0.0021\n",
            "Epoch 8/25\n",
            "51/51 [==============================] - ETA: 0s - loss: 0.0019WARNING:tensorflow:Can save best model only with val_loss available, skipping.\n",
            "51/51 [==============================] - 4s 83ms/step - loss: 0.0019\n",
            "Epoch 9/25\n",
            "51/51 [==============================] - ETA: 0s - loss: 0.0017WARNING:tensorflow:Can save best model only with val_loss available, skipping.\n",
            "51/51 [==============================] - 4s 80ms/step - loss: 0.0017\n",
            "Epoch 10/25\n",
            "51/51 [==============================] - ETA: 0s - loss: 0.0019WARNING:tensorflow:Can save best model only with val_loss available, skipping.\n",
            "51/51 [==============================] - 4s 81ms/step - loss: 0.0019\n",
            "Epoch 11/25\n",
            "51/51 [==============================] - ETA: 0s - loss: 0.0020WARNING:tensorflow:Can save best model only with val_loss available, skipping.\n",
            "51/51 [==============================] - 4s 81ms/step - loss: 0.0020\n",
            "Epoch 12/25\n",
            "51/51 [==============================] - ETA: 0s - loss: 0.0014WARNING:tensorflow:Can save best model only with val_loss available, skipping.\n",
            "51/51 [==============================] - 4s 81ms/step - loss: 0.0014\n",
            "Epoch 13/25\n",
            "51/51 [==============================] - ETA: 0s - loss: 0.0018WARNING:tensorflow:Can save best model only with val_loss available, skipping.\n",
            "51/51 [==============================] - 4s 77ms/step - loss: 0.0018\n",
            "Epoch 14/25\n",
            "51/51 [==============================] - ETA: 0s - loss: 0.0017WARNING:tensorflow:Can save best model only with val_loss available, skipping.\n",
            "51/51 [==============================] - 4s 81ms/step - loss: 0.0017\n",
            "Epoch 15/25\n",
            "51/51 [==============================] - ETA: 0s - loss: 0.0015WARNING:tensorflow:Can save best model only with val_loss available, skipping.\n",
            "51/51 [==============================] - 4s 79ms/step - loss: 0.0015\n",
            "Epoch 16/25\n",
            "51/51 [==============================] - ETA: 0s - loss: 0.0015WARNING:tensorflow:Can save best model only with val_loss available, skipping.\n",
            "51/51 [==============================] - 4s 81ms/step - loss: 0.0015\n",
            "Epoch 17/25\n",
            "51/51 [==============================] - ETA: 0s - loss: 0.0015WARNING:tensorflow:Can save best model only with val_loss available, skipping.\n",
            "51/51 [==============================] - 4s 79ms/step - loss: 0.0015\n",
            "Epoch 18/25\n",
            "51/51 [==============================] - ETA: 0s - loss: 0.0016WARNING:tensorflow:Can save best model only with val_loss available, skipping.\n",
            "51/51 [==============================] - 4s 78ms/step - loss: 0.0016\n",
            "Epoch 19/25\n",
            "51/51 [==============================] - ETA: 0s - loss: 0.0013WARNING:tensorflow:Can save best model only with val_loss available, skipping.\n",
            "51/51 [==============================] - 4s 78ms/step - loss: 0.0013\n",
            "Epoch 20/25\n",
            "51/51 [==============================] - ETA: 0s - loss: 0.0013WARNING:tensorflow:Can save best model only with val_loss available, skipping.\n",
            "51/51 [==============================] - 4s 78ms/step - loss: 0.0013\n",
            "Epoch 21/25\n",
            "51/51 [==============================] - ETA: 0s - loss: 0.0014WARNING:tensorflow:Can save best model only with val_loss available, skipping.\n",
            "51/51 [==============================] - 4s 79ms/step - loss: 0.0014\n",
            "Epoch 22/25\n",
            "51/51 [==============================] - ETA: 0s - loss: 0.0012WARNING:tensorflow:Can save best model only with val_loss available, skipping.\n",
            "51/51 [==============================] - 4s 77ms/step - loss: 0.0012\n",
            "Epoch 23/25\n",
            "51/51 [==============================] - ETA: 0s - loss: 0.0014WARNING:tensorflow:Can save best model only with val_loss available, skipping.\n",
            "51/51 [==============================] - 4s 77ms/step - loss: 0.0014\n",
            "Epoch 24/25\n",
            "51/51 [==============================] - ETA: 0s - loss: 0.0013WARNING:tensorflow:Can save best model only with val_loss available, skipping.\n",
            "51/51 [==============================] - 4s 79ms/step - loss: 0.0013\n",
            "Epoch 25/25\n",
            "51/51 [==============================] - ETA: 0s - loss: 0.0012WARNING:tensorflow:Can save best model only with val_loss available, skipping.\n",
            "51/51 [==============================] - 4s 78ms/step - loss: 0.0012\n"
          ]
        },
        {
          "data": {
            "text/plain": [
              "<keras.src.callbacks.History at 0x2aa922cd0>"
            ]
          },
          "execution_count": 15,
          "metadata": {},
          "output_type": "execute_result"
        }
      ],
      "source": [
        "# Define callbacks\n",
        "\n",
        "# Save weights only for best model\n",
        "checkpointer = ModelCheckpoint(\n",
        "    filepath = 'weights_best.hdf5',\n",
        "    verbose = 2,\n",
        "    save_best_only = True\n",
        ")\n",
        "\n",
        "model.fit(\n",
        "    x_train,\n",
        "    y_train,\n",
        "    epochs=25,\n",
        "    batch_size = 32,\n",
        "    callbacks = [checkpointer]\n",
        ")"
      ]
    },
    {
      "cell_type": "markdown",
      "metadata": {
        "id": "mLr_nsGUVFQm"
      },
      "source": [
        "The batch size determines how many samples from the training data are used in each forward and backward pass during training. A batch size of 32 means that 32 samples will be processed together before updating the model's parameters. Smaller batch sizes consume less memory but may require more training time, while larger batch sizes can speed up training but may consume more memory."
      ]
    },
    {
      "cell_type": "markdown",
      "metadata": {
        "id": "QckGo_rVVaja"
      },
      "source": [
        "# Inference\n"
      ]
    },
    {
      "cell_type": "code",
      "execution_count": 17,
      "metadata": {
        "id": "f-nF8DgOVmdH"
      },
      "outputs": [],
      "source": [
        "# Load test data for the specified company and date range\n",
        "test_data = load_data(\n",
        "    df,\n",
        "    start=START_DATE_TEST,\n",
        "    end=dt.datetime.now()\n",
        ")\n",
        "\n",
        "# Extract the actual closing prices from the test data\n",
        "actual_prices = test_data['Close'].values\n",
        "\n",
        "# Concatenate the training and test data along the 'Close' column\n",
        "total_dataset = pd.concat((data['Close'], test_data['Close']), axis=0)\n",
        "\n",
        "# Extract the relevant portion of the dataset for model inputs\n",
        "model_inputs = total_dataset[len(total_dataset) - len(test_data) - prediction_days:].values\n",
        "#model inputs start x prediction days before the first day we want to predict\n",
        "\n",
        "# Reshape the model inputs to a 2D array with a single column\n",
        "model_inputs = model_inputs.reshape(-1, 1)\n",
        "\n",
        "# Apply the same scaling used for training data to the model inputs\n",
        "model_inputs = scaler.transform(model_inputs)\n"
      ]
    },
    {
      "cell_type": "code",
      "execution_count": 18,
      "metadata": {
        "id": "IiZkam4MaN4X"
      },
      "outputs": [
        {
          "name": "stdout",
          "output_type": "stream",
          "text": [
            "24/24 [==============================] - 1s 19ms/step\n"
          ]
        }
      ],
      "source": [
        "# Initialize an empty list for test data input\n",
        "x_test = []\n",
        "\n",
        "# Iterate through the model inputs, starting from the prediction_days index\n",
        "for x in range(prediction_days, len(model_inputs)):\n",
        "    # Append the previous 'prediction_days' values to x_test\n",
        "    x_test.append(model_inputs[x-prediction_days:x, 0])\n",
        "\n",
        "# Convert the x_test list to a numpy array\n",
        "x_test = np.array(x_test)\n",
        "\n",
        "# Reshape x_test to a 3D array with the appropriate dimensions for the LSTM model\n",
        "x_test = np.reshape(x_test, (x_test.shape[0], x_test.shape[1], 1))\n",
        "\n",
        "# Generate price predictions using the LSTM model\n",
        "predicted_prices = model.predict(x_test)\n",
        "\n",
        "# Invert the scaling applied to the predicted prices to obtain actual values\n",
        "predicted_prices = scaler.inverse_transform(predicted_prices)"
      ]
    },
    {
      "cell_type": "code",
      "execution_count": 19,
      "metadata": {
        "id": "FrWs2f_1aldZ"
      },
      "outputs": [
        {
          "data": {
            "image/png": "[encoded data removed]",
            "text/plain": [
              "<Figure size 640x480 with 1 Axes>"
            ]
          },
          "metadata": {},
          "output_type": "display_data"
        }
      ],
      "source": [
        "# Plot the actual prices using a black line\n",
        "plt.plot(actual_prices, color='black', label=f\"Actual NASDAQ price\")\n",
        "\n",
        "# Plot the predicted prices using a green line\n",
        "plt.plot(predicted_prices, color='green', label=f\"Predicted NASDAQ price\")\n",
        "\n",
        "# Set the title of the plot using the company name\n",
        "plt.title(f\"NASDAQ share price\")\n",
        "\n",
        "# Set the x-axis label as 'time'\n",
        "plt.xlabel(\"time\")\n",
        "\n",
        "# Set the y-axis label using the company name\n",
        "plt.ylabel(f\"NASDAQ share price\")\n",
        "\n",
        "# Display a legend to differentiate the actual and predicted prices\n",
        "plt.legend()\n",
        "\n",
        "# Show the plot on the screen\n",
        "plt.show()"
      ]
    },
    {
      "cell_type": "code",
      "execution_count": 20,
      "metadata": {
        "id": "yxZ2nDZMbJSl"
      },
      "outputs": [
        {
          "name": "stdout",
          "output_type": "stream",
          "text": [
            "1/1 [==============================] - 0s 461ms/step\n",
            "Prediction: 13289.451171875\n"
          ]
        }
      ],
      "source": [
        "# Extract the last 'prediction_days' values from the model inputs to make a prediction for the future\n",
        "real_data = [model_inputs[len(model_inputs) + 1 - prediction_days:len(model_inputs + 1), 0]]\n",
        "\n",
        "# Convert the real_data list to a numpy array\n",
        "real_data = np.array(real_data)\n",
        "\n",
        "# Reshape real_data to a 3D array with the appropriate dimensions for the LSTM model\n",
        "real_data = np.reshape(real_data, (real_data.shape[0], real_data.shape[1], 1))\n",
        "\n",
        "# Generate a prediction using the LSTM model with the real_data input\n",
        "prediction = model.predict(real_data) #prediction for 10/25\n",
        "\n",
        "# Invert the scaling applied to the prediction to obtain the actual value\n",
        "prediction = scaler.inverse_transform(prediction)\n",
        "\n",
        "# Print the prediction result to the console\n",
        "print(f\"Prediction: {prediction[0][0]}\")\n",
        "\n"
      ]
    },
    {
      "cell_type": "markdown",
      "metadata": {
        "id": "AHGwtwy1QywM"
      },
      "source": [
        "Actual close price for 10/26: 12,821.22"
      ]
    },
    {
      "cell_type": "markdown",
      "metadata": {
        "id": "6yCLutBeSE4D"
      },
      "source": [
        "# Evaluation\n"
      ]
    },
    {
      "cell_type": "code",
      "execution_count": 21,
      "metadata": {
        "id": "I_KQMH4tSRZE"
      },
      "outputs": [
        {
          "name": "stdout",
          "output_type": "stream",
          "text": [
            "Avergae percent error:  2.1506654679992048\n",
            "Root Mean Square Error (RMSE): 343.315193721587\n",
            "Out-of-sample R-squared: 0.9423519884453604\n"
          ]
        }
      ],
      "source": [
        "predicted_prices1D = predicted_prices.flatten()\n",
        "\n",
        "# Average percent error\n",
        "\n",
        "percent_error = (np.abs(actual_prices - predicted_prices1D) / actual_prices) * 100\n",
        "avg_percent_error = np.sum(percent_error) / len(percent_error)\n",
        "print(\"Avergae percent error: \", avg_percent_error)\n",
        "\n",
        "# RMSE\n",
        "# Step 1: Calculate the squared differences\n",
        "squared_diff = (predicted_prices1D - actual_prices) ** 2\n",
        "\n",
        "# Step 2: Compute the mean of squared differences\n",
        "mean_squared_diff = squared_diff.mean()\n",
        "\n",
        "# Step 3: Take the square root to get RMSE\n",
        "rmse = np.sqrt(mean_squared_diff)\n",
        "\n",
        "print(\"Root Mean Square Error (RMSE):\", rmse)\n",
        "\n",
        "\n",
        "# Out of Sample R square\n",
        "# Calculate the mean of the actual target values\n",
        "actual_mean = np.mean(actual_prices)\n",
        "\n",
        "# Calculate SST, SSR, and SSE\n",
        "SST = np.sum((actual_prices - actual_mean) ** 2)\n",
        "SSE = np.sum((actual_prices - predicted_prices1D) ** 2)\n",
        "\n",
        "# Calculate out-of-sample R-squared\n",
        "out_of_sample_r_squared = 1 - (SSE / SST)\n",
        "\n",
        "print(\"Out-of-sample R-squared:\", out_of_sample_r_squared)\n",
        "\n"
      ]
    },
    {
      "cell_type": "markdown",
      "metadata": {
        "id": "vjtGbdualEOy"
      },
      "source": [
        "# Baseline is Rolling Average"
      ]
    },
    {
      "cell_type": "markdown",
      "metadata": {
        "id": "doiEL5NvmnlK"
      },
      "source": [
        "Compare the results of the LSTM to using a rolling average."
      ]
    },
    {
      "cell_type": "code",
      "execution_count": 22,
      "metadata": {
        "id": "nVzfEBiamc7O"
      },
      "outputs": [],
      "source": [
        "#using the same x_test that was input for the LSTM\n",
        "#using prediction_days = 150\n",
        "\n",
        "# Initialize an empty list to store moving averages\n",
        "moving_averages = np.empty((len(predicted_prices1D), ), dtype=np.float64)\n",
        "\n",
        "# Loop through x_test to consider\n",
        "# every window of size prediction_days\n",
        "for i in range(len(x_test)):\n",
        "\n",
        "    # get the current window\n",
        "    window = x_test[i].flatten()\n",
        "\n",
        "    # Calculate the average of current window\n",
        "    window_average = np.mean(window)\n",
        "\n",
        "    # Store the average of current\n",
        "    # window in moving average list\n",
        "    moving_averages[i] = window_average\n",
        "\n",
        "rolling_average_prediction = scaler.inverse_transform(moving_averages.reshape(-1, 1))"
      ]
    },
    {
      "cell_type": "code",
      "execution_count": 23,
      "metadata": {
        "id": "njLcgMdLsGLb"
      },
      "outputs": [
        {
          "data": {
            "image/png": "[encoded data removed]",
            "text/plain": [
              "<Figure size 640x480 with 1 Axes>"
            ]
          },
          "metadata": {},
          "output_type": "display_data"
        }
      ],
      "source": [
        "# Plot the actual prices using a black line\n",
        "plt.plot(actual_prices, color='black', label=f\"Actual NASDAQ price\")\n",
        "\n",
        "# Plot the predicted prices using a green line\n",
        "plt.plot(rolling_average_prediction, color='green', label=f\"Rolling Average Predicted NASDAQ price\")\n",
        "\n",
        "# Set the title of the plot using the company name\n",
        "plt.title(f\"NASDAQ share price\")\n",
        "\n",
        "# Set the x-axis label as 'time'\n",
        "plt.xlabel(\"time\")\n",
        "\n",
        "# Set the y-axis label using the company name\n",
        "plt.ylabel(f\"NASDAQ share price\")\n",
        "\n",
        "# Display a legend to differentiate the actual and predicted prices\n",
        "plt.legend()\n",
        "\n",
        "# Show the plot on the screen\n",
        "plt.show()"
      ]
    },
    {
      "cell_type": "code",
      "execution_count": 25,
      "metadata": {
        "id": "q6ii7yA5n0nn"
      },
      "outputs": [
        {
          "name": "stdout",
          "output_type": "stream",
          "text": [
            "Avergae percent error:  8.66713196489639\n",
            "Root Mean Square Error (RMSE): 1282.6006716878696\n",
            "Out-of-sample R-squared: 0.19539781063211414\n"
          ]
        }
      ],
      "source": [
        "rolling_prices1D = rolling_average_prediction.flatten()\n",
        "\n",
        "# Average percent error\n",
        "\n",
        "percent_error = (np.abs(actual_prices - rolling_prices1D) / actual_prices) * 100\n",
        "avg_percent_error = np.sum(percent_error) / len(percent_error)\n",
        "print(\"Avergae percent error: \", avg_percent_error)\n",
        "\n",
        "# RMSE\n",
        "# Step 1: Calculate the squared differences\n",
        "squared_diff = (rolling_prices1D - actual_prices) ** 2\n",
        "\n",
        "# Step 2: Compute the mean of squared differences\n",
        "mean_squared_diff = squared_diff.mean()\n",
        "\n",
        "# Step 3: Take the square root to get RMSE\n",
        "rmse = np.sqrt(mean_squared_diff)\n",
        "\n",
        "print(\"Root Mean Square Error (RMSE):\", rmse)\n",
        "\n",
        "\n",
        "# Out of Sample R square\n",
        "# Calculate the mean of the actual target values\n",
        "actual_mean = np.mean(actual_prices)\n",
        "\n",
        "# Calculate SST, and SSE\n",
        "SST = np.sum((actual_prices - actual_mean) ** 2)\n",
        "SSE = np.sum((actual_prices - rolling_prices1D) ** 2)\n",
        "\n",
        "# Calculate out-of-sample R-squared\n",
        "out_of_sample_r_squared = 1 - (SSE / SST)\n",
        "\n",
        "print(\"Out-of-sample R-squared:\", out_of_sample_r_squared)"
      ]
    },
    {
      "cell_type": "markdown",
      "metadata": {},
      "source": [
        "# Weekly Forecasting"
      ]
    },
    {
      "cell_type": "markdown",
      "metadata": {},
      "source": [
        "Loading & Pre-processing Data"
      ]
    },
    {
      "cell_type": "code",
      "execution_count": 53,
      "metadata": {},
      "outputs": [],
      "source": [
        "df = pd.read_csv('^IXIC_Weekly.csv')\n",
        "\n",
        "START_DATE = dt.datetime(2010,10,24)\n",
        "END_DATE = dt.datetime(2020,10,29)\n",
        "\n",
        "START_DATE_TEST = END_DATE"
      ]
    },
    {
      "cell_type": "code",
      "execution_count": 54,
      "metadata": {},
      "outputs": [
        {
          "data": {
            "text/html": [
              "<div>\n",
              "<style scoped>\n",
              "    .dataframe tbody tr th:only-of-type {\n",
              "        vertical-align: middle;\n",
              "    }\n",
              "\n",
              "    .dataframe tbody tr th {\n",
              "        vertical-align: top;\n",
              "    }\n",
              "\n",
              "    .dataframe thead th {\n",
              "        text-align: right;\n",
              "    }\n",
              "</style>\n",
              "<table border=\"1\" class=\"dataframe\">\n",
              "  <thead>\n",
              "    <tr style=\"text-align: right;\">\n",
              "      <th></th>\n",
              "      <th>Date</th>\n",
              "      <th>Open</th>\n",
              "      <th>High</th>\n",
              "      <th>Low</th>\n",
              "      <th>Close</th>\n",
              "      <th>Adj Close</th>\n",
              "      <th>Volume</th>\n",
              "    </tr>\n",
              "  </thead>\n",
              "  <tbody>\n",
              "    <tr>\n",
              "      <th>0</th>\n",
              "      <td>2010-10-25</td>\n",
              "      <td>2505.989990</td>\n",
              "      <td>2517.500000</td>\n",
              "      <td>2505.860107</td>\n",
              "      <td>2507.409912</td>\n",
              "      <td>2507.409912</td>\n",
              "      <td>2068700000</td>\n",
              "    </tr>\n",
              "    <tr>\n",
              "      <th>1</th>\n",
              "      <td>2010-11-01</td>\n",
              "      <td>2520.449951</td>\n",
              "      <td>2582.179932</td>\n",
              "      <td>2491.459961</td>\n",
              "      <td>2578.979980</td>\n",
              "      <td>2578.979980</td>\n",
              "      <td>10395080000</td>\n",
              "    </tr>\n",
              "    <tr>\n",
              "      <th>2</th>\n",
              "      <td>2010-11-08</td>\n",
              "      <td>2570.860107</td>\n",
              "      <td>2592.939941</td>\n",
              "      <td>2506.399902</td>\n",
              "      <td>2518.209961</td>\n",
              "      <td>2518.209961</td>\n",
              "      <td>10707400000</td>\n",
              "    </tr>\n",
              "    <tr>\n",
              "      <th>3</th>\n",
              "      <td>2010-11-15</td>\n",
              "      <td>2529.020020</td>\n",
              "      <td>2534.560059</td>\n",
              "      <td>2459.790039</td>\n",
              "      <td>2518.120117</td>\n",
              "      <td>2518.120117</td>\n",
              "      <td>9788890000</td>\n",
              "    </tr>\n",
              "    <tr>\n",
              "      <th>4</th>\n",
              "      <td>2010-11-22</td>\n",
              "      <td>2509.389893</td>\n",
              "      <td>2545.409912</td>\n",
              "      <td>2483.159912</td>\n",
              "      <td>2534.560059</td>\n",
              "      <td>2534.560059</td>\n",
              "      <td>6001450000</td>\n",
              "    </tr>\n",
              "    <tr>\n",
              "      <th>...</th>\n",
              "      <td>...</td>\n",
              "      <td>...</td>\n",
              "      <td>...</td>\n",
              "      <td>...</td>\n",
              "      <td>...</td>\n",
              "      <td>...</td>\n",
              "      <td>...</td>\n",
              "    </tr>\n",
              "    <tr>\n",
              "      <th>674</th>\n",
              "      <td>2023-09-25</td>\n",
              "      <td>13172.540039</td>\n",
              "      <td>13382.980469</td>\n",
              "      <td>12963.160156</td>\n",
              "      <td>13219.320313</td>\n",
              "      <td>13219.320313</td>\n",
              "      <td>23422130000</td>\n",
              "    </tr>\n",
              "    <tr>\n",
              "      <th>675</th>\n",
              "      <td>2023-10-02</td>\n",
              "      <td>13217.980469</td>\n",
              "      <td>13472.269531</td>\n",
              "      <td>13008.599609</td>\n",
              "      <td>13431.339844</td>\n",
              "      <td>13431.339844</td>\n",
              "      <td>22023970000</td>\n",
              "    </tr>\n",
              "    <tr>\n",
              "      <th>676</th>\n",
              "      <td>2023-10-09</td>\n",
              "      <td>13326.219727</td>\n",
              "      <td>13714.139648</td>\n",
              "      <td>13277.480469</td>\n",
              "      <td>13407.230469</td>\n",
              "      <td>13407.230469</td>\n",
              "      <td>21407890000</td>\n",
              "    </tr>\n",
              "    <tr>\n",
              "      <th>677</th>\n",
              "      <td>2023-10-16</td>\n",
              "      <td>13453.809570</td>\n",
              "      <td>13602.250000</td>\n",
              "      <td>12977.429688</td>\n",
              "      <td>12983.809570</td>\n",
              "      <td>12983.809570</td>\n",
              "      <td>22981100000</td>\n",
              "    </tr>\n",
              "    <tr>\n",
              "      <th>678</th>\n",
              "      <td>2023-10-23</td>\n",
              "      <td>12930.849609</td>\n",
              "      <td>13170.389648</td>\n",
              "      <td>12543.860352</td>\n",
              "      <td>12643.009766</td>\n",
              "      <td>12643.009766</td>\n",
              "      <td>22940630000</td>\n",
              "    </tr>\n",
              "  </tbody>\n",
              "</table>\n",
              "<p>679 rows × 7 columns</p>\n",
              "</div>"
            ],
            "text/plain": [
              "          Date          Open          High           Low         Close  \\\n",
              "0   2010-10-25   2505.989990   2517.500000   2505.860107   2507.409912   \n",
              "1   2010-11-01   2520.449951   2582.179932   2491.459961   2578.979980   \n",
              "2   2010-11-08   2570.860107   2592.939941   2506.399902   2518.209961   \n",
              "3   2010-11-15   2529.020020   2534.560059   2459.790039   2518.120117   \n",
              "4   2010-11-22   2509.389893   2545.409912   2483.159912   2534.560059   \n",
              "..         ...           ...           ...           ...           ...   \n",
              "674 2023-09-25  13172.540039  13382.980469  12963.160156  13219.320313   \n",
              "675 2023-10-02  13217.980469  13472.269531  13008.599609  13431.339844   \n",
              "676 2023-10-09  13326.219727  13714.139648  13277.480469  13407.230469   \n",
              "677 2023-10-16  13453.809570  13602.250000  12977.429688  12983.809570   \n",
              "678 2023-10-23  12930.849609  13170.389648  12543.860352  12643.009766   \n",
              "\n",
              "        Adj Close       Volume  \n",
              "0     2507.409912   2068700000  \n",
              "1     2578.979980  10395080000  \n",
              "2     2518.209961  10707400000  \n",
              "3     2518.120117   9788890000  \n",
              "4     2534.560059   6001450000  \n",
              "..            ...          ...  \n",
              "674  13219.320313  23422130000  \n",
              "675  13431.339844  22023970000  \n",
              "676  13407.230469  21407890000  \n",
              "677  12983.809570  22981100000  \n",
              "678  12643.009766  22940630000  \n",
              "\n",
              "[679 rows x 7 columns]"
            ]
          },
          "execution_count": 54,
          "metadata": {},
          "output_type": "execute_result"
        }
      ],
      "source": [
        "df['Date'] = pd.to_datetime(df['Date'])\n",
        "df"
      ]
    },
    {
      "cell_type": "code",
      "execution_count": 55,
      "metadata": {},
      "outputs": [
        {
          "data": {
            "text/html": [
              "<div>\n",
              "<style scoped>\n",
              "    .dataframe tbody tr th:only-of-type {\n",
              "        vertical-align: middle;\n",
              "    }\n",
              "\n",
              "    .dataframe tbody tr th {\n",
              "        vertical-align: top;\n",
              "    }\n",
              "\n",
              "    .dataframe thead th {\n",
              "        text-align: right;\n",
              "    }\n",
              "</style>\n",
              "<table border=\"1\" class=\"dataframe\">\n",
              "  <thead>\n",
              "    <tr style=\"text-align: right;\">\n",
              "      <th></th>\n",
              "      <th>Date</th>\n",
              "      <th>Open</th>\n",
              "      <th>High</th>\n",
              "      <th>Low</th>\n",
              "      <th>Close</th>\n",
              "      <th>Adj Close</th>\n",
              "      <th>Volume</th>\n",
              "    </tr>\n",
              "  </thead>\n",
              "  <tbody>\n",
              "    <tr>\n",
              "      <th>0</th>\n",
              "      <td>2010-10-25</td>\n",
              "      <td>2505.989990</td>\n",
              "      <td>2517.500000</td>\n",
              "      <td>2505.860107</td>\n",
              "      <td>2507.409912</td>\n",
              "      <td>2507.409912</td>\n",
              "      <td>2068700000</td>\n",
              "    </tr>\n",
              "    <tr>\n",
              "      <th>1</th>\n",
              "      <td>2010-11-01</td>\n",
              "      <td>2520.449951</td>\n",
              "      <td>2582.179932</td>\n",
              "      <td>2491.459961</td>\n",
              "      <td>2578.979980</td>\n",
              "      <td>2578.979980</td>\n",
              "      <td>10395080000</td>\n",
              "    </tr>\n",
              "    <tr>\n",
              "      <th>2</th>\n",
              "      <td>2010-11-08</td>\n",
              "      <td>2570.860107</td>\n",
              "      <td>2592.939941</td>\n",
              "      <td>2506.399902</td>\n",
              "      <td>2518.209961</td>\n",
              "      <td>2518.209961</td>\n",
              "      <td>10707400000</td>\n",
              "    </tr>\n",
              "    <tr>\n",
              "      <th>3</th>\n",
              "      <td>2010-11-15</td>\n",
              "      <td>2529.020020</td>\n",
              "      <td>2534.560059</td>\n",
              "      <td>2459.790039</td>\n",
              "      <td>2518.120117</td>\n",
              "      <td>2518.120117</td>\n",
              "      <td>9788890000</td>\n",
              "    </tr>\n",
              "    <tr>\n",
              "      <th>4</th>\n",
              "      <td>2010-11-22</td>\n",
              "      <td>2509.389893</td>\n",
              "      <td>2545.409912</td>\n",
              "      <td>2483.159912</td>\n",
              "      <td>2534.560059</td>\n",
              "      <td>2534.560059</td>\n",
              "      <td>6001450000</td>\n",
              "    </tr>\n",
              "    <tr>\n",
              "      <th>...</th>\n",
              "      <td>...</td>\n",
              "      <td>...</td>\n",
              "      <td>...</td>\n",
              "      <td>...</td>\n",
              "      <td>...</td>\n",
              "      <td>...</td>\n",
              "      <td>...</td>\n",
              "    </tr>\n",
              "    <tr>\n",
              "      <th>518</th>\n",
              "      <td>2020-09-28</td>\n",
              "      <td>11084.379883</td>\n",
              "      <td>11344.129883</td>\n",
              "      <td>11019.139648</td>\n",
              "      <td>11075.019531</td>\n",
              "      <td>11075.019531</td>\n",
              "      <td>18978820000</td>\n",
              "    </tr>\n",
              "    <tr>\n",
              "      <th>519</th>\n",
              "      <td>2020-10-05</td>\n",
              "      <td>11169.110352</td>\n",
              "      <td>11581.230469</td>\n",
              "      <td>11124.450195</td>\n",
              "      <td>11579.940430</td>\n",
              "      <td>11579.940430</td>\n",
              "      <td>18937450000</td>\n",
              "    </tr>\n",
              "    <tr>\n",
              "      <th>520</th>\n",
              "      <td>2020-10-12</td>\n",
              "      <td>11732.330078</td>\n",
              "      <td>11965.540039</td>\n",
              "      <td>11559.099609</td>\n",
              "      <td>11671.559570</td>\n",
              "      <td>11671.559570</td>\n",
              "      <td>17421820000</td>\n",
              "    </tr>\n",
              "    <tr>\n",
              "      <th>521</th>\n",
              "      <td>2020-10-19</td>\n",
              "      <td>11732.339844</td>\n",
              "      <td>11778.110352</td>\n",
              "      <td>11369.290039</td>\n",
              "      <td>11548.280273</td>\n",
              "      <td>11548.280273</td>\n",
              "      <td>17034370000</td>\n",
              "    </tr>\n",
              "    <tr>\n",
              "      <th>522</th>\n",
              "      <td>2020-10-26</td>\n",
              "      <td>11440.639648</td>\n",
              "      <td>11545.629883</td>\n",
              "      <td>10822.570313</td>\n",
              "      <td>10911.589844</td>\n",
              "      <td>10911.589844</td>\n",
              "      <td>17156350000</td>\n",
              "    </tr>\n",
              "  </tbody>\n",
              "</table>\n",
              "<p>523 rows × 7 columns</p>\n",
              "</div>"
            ],
            "text/plain": [
              "          Date          Open          High           Low         Close  \\\n",
              "0   2010-10-25   2505.989990   2517.500000   2505.860107   2507.409912   \n",
              "1   2010-11-01   2520.449951   2582.179932   2491.459961   2578.979980   \n",
              "2   2010-11-08   2570.860107   2592.939941   2506.399902   2518.209961   \n",
              "3   2010-11-15   2529.020020   2534.560059   2459.790039   2518.120117   \n",
              "4   2010-11-22   2509.389893   2545.409912   2483.159912   2534.560059   \n",
              "..         ...           ...           ...           ...           ...   \n",
              "518 2020-09-28  11084.379883  11344.129883  11019.139648  11075.019531   \n",
              "519 2020-10-05  11169.110352  11581.230469  11124.450195  11579.940430   \n",
              "520 2020-10-12  11732.330078  11965.540039  11559.099609  11671.559570   \n",
              "521 2020-10-19  11732.339844  11778.110352  11369.290039  11548.280273   \n",
              "522 2020-10-26  11440.639648  11545.629883  10822.570313  10911.589844   \n",
              "\n",
              "        Adj Close       Volume  \n",
              "0     2507.409912   2068700000  \n",
              "1     2578.979980  10395080000  \n",
              "2     2518.209961  10707400000  \n",
              "3     2518.120117   9788890000  \n",
              "4     2534.560059   6001450000  \n",
              "..            ...          ...  \n",
              "518  11075.019531  18978820000  \n",
              "519  11579.940430  18937450000  \n",
              "520  11671.559570  17421820000  \n",
              "521  11548.280273  17034370000  \n",
              "522  10911.589844  17156350000  \n",
              "\n",
              "[523 rows x 7 columns]"
            ]
          },
          "execution_count": 55,
          "metadata": {},
          "output_type": "execute_result"
        }
      ],
      "source": [
        "#Load training data - 4 year window\n",
        "train_data = load_data(df,\n",
        "                 start = START_DATE,\n",
        "                 end = END_DATE)\n",
        "\n",
        "train_data\n"
      ]
    },
    {
      "cell_type": "code",
      "execution_count": 56,
      "metadata": {},
      "outputs": [],
      "source": [
        "# Normalize Data\n",
        "scaler = MinMaxScaler(feature_range=(0,1)) # Why do we need to do this?\n",
        "scaled_data = scaler.fit_transform(train_data['Close'].values.reshape(-1,1))"
      ]
    },
    {
      "cell_type": "markdown",
      "metadata": {},
      "source": [
        "Prepare training sets"
      ]
    },
    {
      "cell_type": "code",
      "execution_count": 57,
      "metadata": {},
      "outputs": [],
      "source": [
        "# Set the number of weeks used for prediction\n",
        "prediction_weeks = 12\n",
        "\n",
        "# Initialize empty lists for training data input and output\n",
        "x_train = []\n",
        "y_train = []\n",
        "\n",
        "# Iterate through the scaled data\n",
        "for x in range(prediction_weeks, len(scaled_data)):\n",
        "    # Append the previous 'prediction_days' values to x_train\n",
        "    x_train.append(scaled_data[x - prediction_weeks:x, 0])\n",
        "    # Append the current value to y_train\n",
        "    y_train.append(scaled_data[x, 0])\n",
        "\n",
        "# Convert the x_train and y_train lists to numpy arrays\n",
        "x_train, y_train = np.array(x_train), np.array(y_train)\n",
        "\n",
        "# Reshape x_train to a 3D array with the appropriate dimensions for the LSTM model\n",
        "x_train = np.reshape(x_train, (x_train.shape[0], x_train.shape[1], 1))\n",
        "# Think of this as a list of 2D arrays "
      ]
    },
    {
      "cell_type": "markdown",
      "metadata": {},
      "source": [
        "Train the LSTM"
      ]
    },
    {
      "cell_type": "code",
      "execution_count": 58,
      "metadata": {},
      "outputs": [
        {
          "name": "stdout",
          "output_type": "stream",
          "text": [
            "Epoch 1/25\n",
            "15/16 [===========================>..] - ETA: 0s - loss: 0.0022   WARNING:tensorflow:Can save best model only with val_loss available, skipping.\n",
            "16/16 [==============================] - 0s 8ms/step - loss: 0.0021\n",
            "Epoch 2/25\n",
            "15/16 [===========================>..] - ETA: 0s - loss: 0.0022WARNING:tensorflow:Can save best model only with val_loss available, skipping.\n",
            "16/16 [==============================] - 0s 8ms/step - loss: 0.0022\n",
            "Epoch 3/25\n",
            "14/16 [=========================>....] - ETA: 0s - loss: 0.0022WARNING:tensorflow:Can save best model only with val_loss available, skipping.\n",
            "16/16 [==============================] - 0s 8ms/step - loss: 0.0023\n",
            "Epoch 4/25\n",
            "15/16 [===========================>..] - ETA: 0s - loss: 0.0015WARNING:tensorflow:Can save best model only with val_loss available, skipping.\n",
            "16/16 [==============================] - 0s 8ms/step - loss: 0.0015\n",
            "Epoch 5/25\n",
            "15/16 [===========================>..] - ETA: 0s - loss: 0.0015   WARNING:tensorflow:Can save best model only with val_loss available, skipping.\n",
            "16/16 [==============================] - 0s 8ms/step - loss: 0.0016\n",
            "Epoch 6/25\n",
            "15/16 [===========================>..] - ETA: 0s - loss: 0.0019WARNING:tensorflow:Can save best model only with val_loss available, skipping.\n",
            "16/16 [==============================] - 0s 8ms/step - loss: 0.0018\n",
            "Epoch 7/25\n",
            "15/16 [===========================>..] - ETA: 0s - loss: 0.0014   WARNING:tensorflow:Can save best model only with val_loss available, skipping.\n",
            "16/16 [==============================] - 0s 8ms/step - loss: 0.0013\n",
            "Epoch 8/25\n",
            "15/16 [===========================>..] - ETA: 0s - loss: 0.0015WARNING:tensorflow:Can save best model only with val_loss available, skipping.\n",
            "16/16 [==============================] - 0s 8ms/step - loss: 0.0014\n",
            "Epoch 9/25\n",
            "15/16 [===========================>..] - ETA: 0s - loss: 0.0015   WARNING:tensorflow:Can save best model only with val_loss available, skipping.\n",
            "16/16 [==============================] - 0s 8ms/step - loss: 0.0014\n",
            "Epoch 10/25\n",
            "14/16 [=========================>....] - ETA: 0s - loss: 0.0017WARNING:tensorflow:Can save best model only with val_loss available, skipping.\n",
            "16/16 [==============================] - 0s 8ms/step - loss: 0.0016\n",
            "Epoch 11/25\n",
            "15/16 [===========================>..] - ETA: 0s - loss: 0.0015WARNING:tensorflow:Can save best model only with val_loss available, skipping.\n",
            "16/16 [==============================] - 0s 8ms/step - loss: 0.0015\n",
            "Epoch 12/25\n",
            "15/16 [===========================>..] - ETA: 0s - loss: 0.0012    WARNING:tensorflow:Can save best model only with val_loss available, skipping.\n",
            "16/16 [==============================] - 0s 8ms/step - loss: 0.0013\n",
            "Epoch 13/25\n",
            "15/16 [===========================>..] - ETA: 0s - loss: 0.0014WARNING:tensorflow:Can save best model only with val_loss available, skipping.\n",
            "16/16 [==============================] - 0s 8ms/step - loss: 0.0014\n",
            "Epoch 14/25\n",
            "15/16 [===========================>..] - ETA: 0s - loss: 0.0016WARNING:tensorflow:Can save best model only with val_loss available, skipping.\n",
            "16/16 [==============================] - 0s 8ms/step - loss: 0.0016\n",
            "Epoch 15/25\n",
            "15/16 [===========================>..] - ETA: 0s - loss: 0.0013   WARNING:tensorflow:Can save best model only with val_loss available, skipping.\n",
            "16/16 [==============================] - 0s 8ms/step - loss: 0.0013\n",
            "Epoch 16/25\n",
            "15/16 [===========================>..] - ETA: 0s - loss: 0.0012   WARNING:tensorflow:Can save best model only with val_loss available, skipping.\n",
            "16/16 [==============================] - 0s 8ms/step - loss: 0.0014\n",
            "Epoch 17/25\n",
            "15/16 [===========================>..] - ETA: 0s - loss: 0.0015WARNING:tensorflow:Can save best model only with val_loss available, skipping.\n",
            "16/16 [==============================] - 0s 8ms/step - loss: 0.0015\n",
            "Epoch 18/25\n",
            "14/16 [=========================>....] - ETA: 0s - loss: 0.0013WARNING:tensorflow:Can save best model only with val_loss available, skipping.\n",
            "16/16 [==============================] - 0s 9ms/step - loss: 0.0013\n",
            "Epoch 19/25\n",
            "13/16 [=======================>......] - ETA: 0s - loss: 0.0013WARNING:tensorflow:Can save best model only with val_loss available, skipping.\n",
            "16/16 [==============================] - 0s 9ms/step - loss: 0.0015\n",
            "Epoch 20/25\n",
            "15/16 [===========================>..] - ETA: 0s - loss: 0.0013WARNING:tensorflow:Can save best model only with val_loss available, skipping.\n",
            "16/16 [==============================] - 0s 8ms/step - loss: 0.0013\n",
            "Epoch 21/25\n",
            "15/16 [===========================>..] - ETA: 0s - loss: 0.0013WARNING:tensorflow:Can save best model only with val_loss available, skipping.\n",
            "16/16 [==============================] - 0s 8ms/step - loss: 0.0014\n",
            "Epoch 22/25\n",
            "13/16 [=======================>......] - ETA: 0s - loss: 0.0012WARNING:tensorflow:Can save best model only with val_loss available, skipping.\n",
            "16/16 [==============================] - 0s 9ms/step - loss: 0.0012\n",
            "Epoch 23/25\n",
            "15/16 [===========================>..] - ETA: 0s - loss: 0.0012WARNING:tensorflow:Can save best model only with val_loss available, skipping.\n",
            "16/16 [==============================] - 0s 8ms/step - loss: 0.0012\n",
            "Epoch 24/25\n",
            "15/16 [===========================>..] - ETA: 0s - loss: 0.0014WARNING:tensorflow:Can save best model only with val_loss available, skipping.\n",
            "16/16 [==============================] - 0s 8ms/step - loss: 0.0014\n",
            "Epoch 25/25\n",
            "15/16 [===========================>..] - ETA: 0s - loss: 0.0013    WARNING:tensorflow:Can save best model only with val_loss available, skipping.\n",
            "16/16 [==============================] - 0s 8ms/step - loss: 0.0013\n"
          ]
        },
        {
          "data": {
            "text/plain": [
              "<keras.src.callbacks.History at 0x2b64a0290>"
            ]
          },
          "execution_count": 58,
          "metadata": {},
          "output_type": "execute_result"
        }
      ],
      "source": [
        "model.fit(\n",
        "    x_train,\n",
        "    y_train,\n",
        "    epochs=25,\n",
        "    batch_size = 32,\n",
        "    callbacks = [checkpointer]\n",
        ")"
      ]
    },
    {
      "cell_type": "markdown",
      "metadata": {},
      "source": [
        "Test against weekly prices over the past 3 years"
      ]
    },
    {
      "cell_type": "code",
      "execution_count": 59,
      "metadata": {},
      "outputs": [],
      "source": [
        "# Load test data for the specified company and date range\n",
        "test_data = load_data(\n",
        "    df,\n",
        "    start=START_DATE_TEST,\n",
        "    end=dt.datetime.now()\n",
        ")\n",
        "\n",
        "# Extract the actual closing prices from the test data\n",
        "actual_prices = test_data['Close'].values\n",
        "\n",
        "# Concatenate the training and test data along the 'Close' column\n",
        "total_dataset = pd.concat((train_data['Close'], test_data['Close']), axis=0)\n",
        "\n",
        "# Extract the relevant portion of the dataset for model inputs\n",
        "model_inputs = total_dataset[len(total_dataset) - len(test_data) - prediction_weeks:].values\n",
        "#model inputs start x prediction days before the first day we want to predict\n",
        "\n",
        "# Reshape the model inputs to a 2D array with a single column\n",
        "model_inputs = model_inputs.reshape(-1, 1)\n",
        "\n",
        "# Apply the same scaling used for training data to the model inputs\n",
        "model_inputs = scaler.transform(model_inputs)"
      ]
    },
    {
      "cell_type": "code",
      "execution_count": 60,
      "metadata": {},
      "outputs": [
        {
          "name": "stdout",
          "output_type": "stream",
          "text": [
            "5/5 [==============================] - 0s 3ms/step\n"
          ]
        }
      ],
      "source": [
        "# Initialize an empty list for test data input\n",
        "x_test = []\n",
        "\n",
        "# Iterate through the model inputs, starting from the prediction_days index\n",
        "for x in range(prediction_weeks, len(model_inputs)):\n",
        "    # Append the previous 'prediction_days' values to x_test\n",
        "    x_test.append(model_inputs[x-prediction_weeks:x, 0])\n",
        "\n",
        "# Convert the x_test list to a numpy array\n",
        "x_test = np.array(x_test)\n",
        "\n",
        "# Reshape x_test to a 3D array with the appropriate dimensions for the LSTM model\n",
        "x_test = np.reshape(x_test, (x_test.shape[0], x_test.shape[1], 1))\n",
        "\n",
        "# Generate price predictions using the LSTM model\n",
        "predicted_prices = model.predict(x_test)\n",
        "\n",
        "# Invert the scaling applied to the predicted prices to obtain actual values\n",
        "predicted_prices = scaler.inverse_transform(predicted_prices)"
      ]
    },
    {
      "cell_type": "code",
      "execution_count": 61,
      "metadata": {},
      "outputs": [
        {
          "data": {
            "image/png": "[encoded data removed]",
            "text/plain": [
              "<Figure size 640x480 with 1 Axes>"
            ]
          },
          "metadata": {},
          "output_type": "display_data"
        }
      ],
      "source": [
        "# Plot the actual prices using a black line\n",
        "plt.plot(actual_prices, color='black', label=f\"Actual Weekly NASDAQ price\")\n",
        "\n",
        "# Plot the predicted prices using a green line\n",
        "plt.plot(predicted_prices, color='green', label=f\"Predicted Weekly NASDAQ price\")\n",
        "\n",
        "# Set the title of the plot using the company name\n",
        "plt.title(f\"NASDAQ share price\")\n",
        "\n",
        "# Set the x-axis label as 'time'\n",
        "plt.xlabel(\"time\")\n",
        "\n",
        "# Set the y-axis label using the company name\n",
        "plt.ylabel(f\"NASDAQ share price\")\n",
        "\n",
        "# Display a legend to differentiate the actual and predicted prices\n",
        "plt.legend()\n",
        "\n",
        "# Show the plot on the screen\n",
        "plt.show()"
      ]
    },
    {
      "cell_type": "code",
      "execution_count": 62,
      "metadata": {},
      "outputs": [
        {
          "name": "stdout",
          "output_type": "stream",
          "text": [
            "1/1 [==============================] - 0s 14ms/step\n",
            "Prediction: 12255.0966796875\n"
          ]
        }
      ],
      "source": [
        "# Extract the last 'prediction_days' values from the model inputs to make a prediction for the future\n",
        "real_data = [model_inputs[len(model_inputs) + 1 - prediction_weeks:len(model_inputs + 1), 0]]\n",
        "\n",
        "# Convert the real_data list to a numpy array\n",
        "real_data = np.array(real_data)\n",
        "\n",
        "# Reshape real_data to a 3D array with the appropriate dimensions for the LSTM model\n",
        "real_data = np.reshape(real_data, (real_data.shape[0], real_data.shape[1], 1))\n",
        "\n",
        "# Generate a prediction using the LSTM model with the real_data input\n",
        "prediction = model.predict(real_data) #prediction for 10/25\n",
        "\n",
        "# Invert the scaling applied to the prediction to obtain the actual value\n",
        "prediction = scaler.inverse_transform(prediction)\n",
        "\n",
        "# Print the prediction result to the console - Prediction for 11/2\n",
        "print(f\"Prediction: {prediction[0][0]}\")"
      ]
    },
    {
      "cell_type": "markdown",
      "metadata": {},
      "source": [
        "Test Evaluation"
      ]
    },
    {
      "cell_type": "code",
      "execution_count": 63,
      "metadata": {},
      "outputs": [
        {
          "name": "stdout",
          "output_type": "stream",
          "text": [
            "Avergae percent error:  5.609641580125387\n",
            "Root Mean Square Error (RMSE): 852.5432700847443\n",
            "Out-of-sample R-squared: 0.6348127674139095\n"
          ]
        }
      ],
      "source": [
        "predicted_prices1D = predicted_prices.flatten()\n",
        "\n",
        "# Average percent error\n",
        "\n",
        "percent_error = (np.abs(actual_prices - predicted_prices1D) / actual_prices) * 100\n",
        "avg_percent_error = np.sum(percent_error) / len(percent_error)\n",
        "print(\"Avergae percent error: \", avg_percent_error)\n",
        "\n",
        "# RMSE\n",
        "# Step 1: Calculate the squared differences\n",
        "squared_diff = (predicted_prices1D - actual_prices) ** 2\n",
        "\n",
        "# Step 2: Compute the mean of squared differences\n",
        "mean_squared_diff = squared_diff.mean()\n",
        "\n",
        "# Step 3: Take the square root to get RMSE\n",
        "rmse = np.sqrt(mean_squared_diff)\n",
        "\n",
        "print(\"Root Mean Square Error (RMSE):\", rmse)\n",
        "\n",
        "\n",
        "# Out of Sample R square\n",
        "# Calculate the mean of the actual target values\n",
        "actual_mean = np.mean(actual_prices)\n",
        "\n",
        "# Calculate SST, SSR, and SSE\n",
        "SST = np.sum((actual_prices - actual_mean) ** 2)\n",
        "SSE = np.sum((actual_prices - predicted_prices1D) ** 2)\n",
        "\n",
        "# Calculate out-of-sample R-squared\n",
        "out_of_sample_r_squared = 1 - (SSE / SST)\n",
        "\n",
        "print(\"Out-of-sample R-squared:\", out_of_sample_r_squared)\n"
      ]
    }
  ],
  "metadata": {
    "colab": {
      "provenance": [],
      "toc_visible": true
    },
    "kernelspec": {
      "display_name": "Python 3",
      "name": "python3"
    },
    "language_info": {
      "codemirror_mode": {
        "name": "ipython",
        "version": 3
      },
      "file_extension": ".py",
      "mimetype": "text/x-python",
      "name": "python",
      "nbconvert_exporter": "python",
      "pygments_lexer": "ipython3",
      "version": "3.11.2"
    }
  },
  "nbformat": 4,
  "nbformat_minor": 0
}
